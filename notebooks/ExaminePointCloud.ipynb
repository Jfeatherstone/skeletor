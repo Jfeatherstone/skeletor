{
 "cells": [
  {
   "cell_type": "code",
   "execution_count": 1,
   "id": "f5c7aae0-a9d5-4933-b1f4-5bc9eece3b39",
   "metadata": {},
   "outputs": [
    {
     "name": "stdout",
     "output_type": "stream",
     "text": [
      "Jupyter environment detected. Enabling Open3D WebVisualizer.\n",
      "[Open3D INFO] WebRTC GUI backend enabled.\n",
      "[Open3D INFO] WebRTCWindowSystem: HTTP handshake server disabled.\n"
     ]
    }
   ],
   "source": [
    "import numpy as np\n",
    "import matplotlib.pyplot as plt\n",
    "\n",
    "import sys\n",
    "sys.path.append('../')\n",
    "\n",
    "import skeletor as sk\n",
    "\n",
    "from skeletor.data import loadTestDataset, TEST_DATASETS_2D, TEST_DATASETS_3D\n",
    "from skeletor.skeleton import skeletonize_medialThinning\n",
    "from skeletor.utils import plotSpatialGraph\n",
    "\n",
    "import time\n",
    "from tqdm import tqdm\n",
    "\n",
    "from pc_skeletor import SLBC, LBC, Dataset\n",
    "import open3d as o3d"
   ]
  },
  {
   "cell_type": "code",
   "execution_count": null,
   "id": "f487ae0f-63db-4be9-bf46-81c8d25b62a5",
   "metadata": {},
   "outputs": [],
   "source": [
    "points = loadTestDataset('double_wireframe_cube_1', extraNoise=.01)\n",
    "points = np.load('/home/jack/Workspaces/data/point_clouds/2024-03-14_LG_A_TIF_1.npy')\n",
    "print(points.shape)\n",
    "\n",
    "# Convert to an open3d point cloud\n",
    "\n",
    "pointCloud = o3d.geometry.PointCloud()\n",
    "\n",
    "pointCloud.points = o3d.utility.Vector3dVector(points)\n",
    "\n",
    "o3d.visualization.draw_geometries([pointCloud])"
   ]
  }
 ],
 "metadata": {
  "kernelspec": {
   "display_name": "Python 3 (ipykernel)",
   "language": "python",
   "name": "python3"
  },
  "language_info": {
   "codemirror_mode": {
    "name": "ipython",
    "version": 3
   },
   "file_extension": ".py",
   "mimetype": "text/x-python",
   "name": "python",
   "nbconvert_exporter": "python",
   "pygments_lexer": "ipython3",
   "version": "3.11.3"
  }
 },
 "nbformat": 4,
 "nbformat_minor": 5
}
