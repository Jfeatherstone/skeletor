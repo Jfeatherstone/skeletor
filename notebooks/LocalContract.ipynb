{
 "cells": [
  {
   "cell_type": "code",
   "execution_count": 1,
   "id": "850e4e85-9fb1-45d5-ad04-f38ced09c294",
   "metadata": {},
   "outputs": [
    {
     "name": "stdout",
     "output_type": "stream",
     "text": [
      "Jupyter environment detected. Enabling Open3D WebVisualizer.\n",
      "[Open3D INFO] WebRTC GUI backend enabled.\n",
      "[Open3D INFO] WebRTCWindowSystem: HTTP handshake server disabled.\n"
     ]
    }
   ],
   "source": [
    "import numpy as np\n",
    "import matplotlib.pyplot as plt\n",
    "from matplotlib.colors import ListedColormap, Normalize\n",
    "from matplotlib.cm import ScalarMappable\n",
    "\n",
    "from tqdm import tqdm\n",
    "import os\n",
    "import sys\n",
    "sys.path.append('../')\n",
    "from PIL import Image\n",
    "import cv2\n",
    "import open3d as o3d\n",
    "\n",
    "from skeletor.skeleton import Octree\n",
    "from skeletor.data import loadTestDataset, loadPointCloud, plotTestDatasets, TEST_DATASETS_2D, TEST_DATASETS_3D, printTestDatasets\n",
    "\n",
    "import robust_laplacian\n",
    "\n",
    "from scipy.signal import convolve\n",
    "from scipy.spatial import KDTree\n",
    "from scipy.spatial.transform import Rotation\n",
    "\n",
    "import scipy.sparse as sparse\n",
    "import scipy.sparse.linalg as sla\n",
    "\n",
    "from pepe.topology import spatialClusterLabels"
   ]
  },
  {
   "cell_type": "code",
   "execution_count": 2,
   "id": "2cbefe7e-3b89-4900-a9b6-016dac6ba0d8",
   "metadata": {},
   "outputs": [],
   "source": [
    "def contractPoints(points, referencePoints=None, pointMasses=None, attraction=1.0, contraction=0.5):\n",
    "    \"\"\"\n",
    "    Perform Laplacian contraction on a set of points, potentially in relation to\n",
    "    a reference set of points (points that should attract other points but not\n",
    "    move themselves).\n",
    "    \"\"\"\n",
    "    dim = np.shape(points)[-1]\n",
    "\n",
    "    if hasattr(referencePoints, '__iter__'):\n",
    "        allPoints = np.concatenate((points, referencePoints))\n",
    "        \n",
    "        # Compute the laplacian and mass matrix\n",
    "        L, M = robust_laplacian.point_cloud_laplacian(allPoints)\n",
    "\n",
    "        # We should only have positive attraction towards reference\n",
    "        # points, and we should have slight negative attraction towards\n",
    "        # regular points (to avoid clumping)\n",
    "        if hasattr(pointMasses, '__iter__'):\n",
    "            pointRepulsion = attraction * pointMasses\n",
    "        else:\n",
    "            pointRepulsion = attraction * np.ones(len(points))\n",
    "            \n",
    "        # Multiply the attraction of the reference points by a very large number so\n",
    "        # they don't move from their original positions much\n",
    "        referencePointAttraction = attraction * np.ones(len(referencePoints))*1e6\n",
    "        pointContraction = contraction * 1e3 * np.sqrt(np.mean(M.diagonal())) * np.ones(len(points))\n",
    "        referencePointContraction = contraction * 1e3 * np.sqrt(np.mean(M.diagonal())) * np.ones(len(referencePoints))\n",
    "\n",
    "        # Define weight matrices\n",
    "        WH = sparse.diags(np.concatenate((pointRepulsion, referencePointAttraction)))\n",
    "        WL = sparse.diags(np.concatenate((pointContraction, referencePointContraction)))  # I * laplacian_weighting\n",
    "\n",
    "    else:\n",
    "        allPoints = points\n",
    "        \n",
    "        # Compute the laplacian and mass matrix\n",
    "        L, M = robust_laplacian.point_cloud_laplacian(allPoints)\n",
    "        \n",
    "        attractionWeights = attraction * np.ones(M.shape[0])\n",
    "        # This is weighted by the sqrt of the mean of the mass matrix, not really sure why, but :/\n",
    "        contractionWeights = contraction * 1e3 * np.sqrt(np.mean(M.diagonal())) * np.ones(M.shape[0])\n",
    "\n",
    "        # Define weight matrices\n",
    "        WH = sparse.diags(attractionWeights)\n",
    "        WL = sparse.diags(contractionWeights)  # I * laplacian_weighting\n",
    "\n",
    "    A = sparse.vstack([L.dot(WL), WH]).tocsc()\n",
    "    b = np.vstack([np.zeros((allPoints.shape[0], 3)), WH.dot(allPoints)])\n",
    "\n",
    "    A_new = A.T @ A\n",
    "\n",
    "    # Solve each dimension separately\n",
    "    solvedAxes = [sla.spsolve(A_new, A.T @ b[:,i], permc_spec='COLAMD') for i in range(dim)]\n",
    "    # If we are in 2D, just add back in the previous z dimension (no need to solve it since\n",
    "    # we will throw it away eventually)\n",
    "    if dim == 2:\n",
    "        solvedAxes += [list(points[:,2])]\n",
    "    ret = np.vstack(solvedAxes).T\n",
    "\n",
    "    if (np.isnan(ret)).all():\n",
    "        #logging.warn('Matrix is exactly singular. Stopping Contraction.')\n",
    "        ret = points\n",
    "\n",
    "    return ret[:len(points)]"
   ]
  },
  {
   "cell_type": "code",
   "execution_count": 3,
   "id": "41ee5047-4c33-4c48-aad7-8a6bf26683a6",
   "metadata": {},
   "outputs": [],
   "source": [
    "skeletonPoints = loadPointCloud('../medial_axis_2024-10-21_LG_A_PNG_T4.0.npy', downsample=10)\n",
    "referencePoints = loadPointCloud('/home/jack/Workspaces/data/point_clouds/2024-10-21_LG_A_PNG_T4.0.npy', downsample=100)\n",
    "\n",
    "adjustedSkeletonPoints = contractPoints(skeletonPoints, referencePoints, attraction=50, contraction=0.5)"
   ]
  },
  {
   "cell_type": "code",
   "execution_count": 4,
   "id": "c4bf27e3-41db-40f6-9721-6923fef1eb08",
   "metadata": {},
   "outputs": [],
   "source": [
    "pcd = o3d.geometry.PointCloud()\n",
    "pcd.points = o3d.utility.Vector3dVector(adjustedSkeletonPoints)\n",
    "pcd.paint_uniform_color((0, 0, 0))\n",
    "\n",
    "pcd2 = o3d.geometry.PointCloud()\n",
    "pcd2.points = o3d.utility.Vector3dVector(skeletonPoints)\n",
    "pcd2.paint_uniform_color((1, 1, 0))\n",
    "\n",
    "o3d.visualization.draw_geometries([pcd, pcd2])"
   ]
  },
  {
   "cell_type": "code",
   "execution_count": 3,
   "id": "e43e0c75-191e-4f86-b99e-8fea2da1f0f4",
   "metadata": {},
   "outputs": [
    {
     "name": "stdout",
     "output_type": "stream",
     "text": [
      "(461279, 3)\n",
      "(1054, 3)\n"
     ]
    }
   ],
   "source": [
    "points = loadTestDataset('orb_web_scan', extraNoise=.001)\n",
    "\n",
    "points = np.load('/home/jack/Workspaces/data/point_clouds/2024-10-08_LG_A_PNG_MetroInv_1.npy')\n",
    "# points = np.load('/home/jack/Workspaces/data/point_clouds/latro_sheet_2024-07-11_A.npy')\n",
    "dsFactor = 1\n",
    "order = np.arange(points.shape[0])\n",
    "np.random.shuffle(order)\n",
    "points = points[order][::dsFactor,:]\n",
    "\n",
    "print(points.shape)\n",
    "\n",
    "octree = Octree(points, 50000, verbose=False, debug=False)\n",
    "octree.plot(backend='o3d', plotPoints=False, plotBoxes=False)\n",
    "\n",
    "print(octree.skeletonPoints.shape)"
   ]
  },
  {
   "cell_type": "code",
   "execution_count": 11,
   "id": "a5fb039a-9088-4866-ab11-45437b356714",
   "metadata": {},
   "outputs": [
    {
     "name": "stdout",
     "output_type": "stream",
     "text": [
      "\u001b[1;33m[Open3D WARNING] [SimpleShaderForLineSet] Binding failed with empty geometry::LineSet.\u001b[0;m\n",
      "\u001b[1;33m[Open3D WARNING] [SimpleShaderForLineSet] Binding failed when preparing data.\u001b[0;m\n",
      "\u001b[1;33m[Open3D WARNING] [SimpleShaderForLineSet] Something is wrong in compiling or binding.\u001b[0;m\n",
      "\u001b[1;33m[Open3D WARNING] [SimpleShaderForLineSet] Binding failed with empty geometry::LineSet.\u001b[0;m\n",
      "\u001b[1;33m[Open3D WARNING] [SimpleShaderForLineSet] Binding failed when preparing data.\u001b[0;m\n",
      "\u001b[1;33m[Open3D WARNING] [SimpleShaderForLineSet] Something is wrong in compiling or binding.\u001b[0;m\n",
      "\u001b[1;33m[Open3D WARNING] [SimpleShaderForLineSet] Binding failed with empty geometry::LineSet.\u001b[0;m\n",
      "\u001b[1;33m[Open3D WARNING] [SimpleShaderForLineSet] Binding failed when preparing data.\u001b[0;m\n",
      "\u001b[1;33m[Open3D WARNING] [SimpleShaderForLineSet] Something is wrong in compiling or binding.\u001b[0;m\n",
      "\u001b[1;33m[Open3D WARNING] [SimpleShaderForLineSet] Binding failed with empty geometry::LineSet.\u001b[0;m\n",
      "\u001b[1;33m[Open3D WARNING] [SimpleShaderForLineSet] Binding failed when preparing data.\u001b[0;m\n",
      "\u001b[1;33m[Open3D WARNING] [SimpleShaderForLineSet] Something is wrong in compiling or binding.\u001b[0;m\n",
      "\u001b[1;33m[Open3D WARNING] [SimpleShaderForLineSet] Binding failed with empty geometry::LineSet.\u001b[0;m\n",
      "\u001b[1;33m[Open3D WARNING] [SimpleShaderForLineSet] Binding failed when preparing data.\u001b[0;m\n",
      "\u001b[1;33m[Open3D WARNING] [SimpleShaderForLineSet] Something is wrong in compiling or binding.\u001b[0;m\n",
      "\u001b[1;33m[Open3D WARNING] [SimpleShaderForLineSet] Binding failed with empty geometry::LineSet.\u001b[0;m\n",
      "\u001b[1;33m[Open3D WARNING] [SimpleShaderForLineSet] Binding failed when preparing data.\u001b[0;m\n",
      "\u001b[1;33m[Open3D WARNING] [SimpleShaderForLineSet] Something is wrong in compiling or binding.\u001b[0;m\n",
      "\u001b[1;33m[Open3D WARNING] [SimpleShaderForLineSet] Binding failed with empty geometry::LineSet.\u001b[0;m\n",
      "\u001b[1;33m[Open3D WARNING] [SimpleShaderForLineSet] Binding failed when preparing data.\u001b[0;m\n",
      "\u001b[1;33m[Open3D WARNING] [SimpleShaderForLineSet] Something is wrong in compiling or binding.\u001b[0;m\n",
      "\u001b[1;33m[Open3D WARNING] [SimpleShaderForLineSet] Binding failed with empty geometry::LineSet.\u001b[0;m\n",
      "\u001b[1;33m[Open3D WARNING] [SimpleShaderForLineSet] Binding failed when preparing data.\u001b[0;m\n",
      "\u001b[1;33m[Open3D WARNING] [SimpleShaderForLineSet] Something is wrong in compiling or binding.\u001b[0;m\n",
      "\u001b[1;33m[Open3D WARNING] [SimpleShaderForLineSet] Binding failed with empty geometry::LineSet.\u001b[0;m\n",
      "\u001b[1;33m[Open3D WARNING] [SimpleShaderForLineSet] Binding failed when preparing data.\u001b[0;m\n",
      "\u001b[1;33m[Open3D WARNING] [SimpleShaderForLineSet] Something is wrong in compiling or binding.\u001b[0;m\n",
      "\u001b[1;33m[Open3D WARNING] [SimpleShaderForLineSet] Binding failed with empty geometry::LineSet.\u001b[0;m\n",
      "\u001b[1;33m[Open3D WARNING] [SimpleShaderForLineSet] Binding failed when preparing data.\u001b[0;m\n",
      "\u001b[1;33m[Open3D WARNING] [SimpleShaderForLineSet] Something is wrong in compiling or binding.\u001b[0;m\n",
      "\u001b[1;33m[Open3D WARNING] [SimpleShaderForLineSet] Binding failed with empty geometry::LineSet.\u001b[0;m\n",
      "\u001b[1;33m[Open3D WARNING] [SimpleShaderForLineSet] Binding failed when preparing data.\u001b[0;m\n",
      "\u001b[1;33m[Open3D WARNING] [SimpleShaderForLineSet] Something is wrong in compiling or binding.\u001b[0;m\n",
      "\u001b[1;33m[Open3D WARNING] [SimpleShaderForLineSet] Binding failed with empty geometry::LineSet.\u001b[0;m\n",
      "\u001b[1;33m[Open3D WARNING] [SimpleShaderForLineSet] Binding failed when preparing data.\u001b[0;m\n",
      "\u001b[1;33m[Open3D WARNING] [SimpleShaderForLineSet] Something is wrong in compiling or binding.\u001b[0;m\n",
      "\u001b[1;33m[Open3D WARNING] [SimpleShaderForLineSet] Binding failed with empty geometry::LineSet.\u001b[0;m\n",
      "\u001b[1;33m[Open3D WARNING] [SimpleShaderForLineSet] Binding failed when preparing data.\u001b[0;m\n",
      "\u001b[1;33m[Open3D WARNING] [SimpleShaderForLineSet] Something is wrong in compiling or binding.\u001b[0;m\n",
      "\u001b[1;33m[Open3D WARNING] [SimpleShaderForLineSet] Binding failed with empty geometry::LineSet.\u001b[0;m\n",
      "\u001b[1;33m[Open3D WARNING] [SimpleShaderForLineSet] Binding failed when preparing data.\u001b[0;m\n",
      "\u001b[1;33m[Open3D WARNING] [SimpleShaderForLineSet] Something is wrong in compiling or binding.\u001b[0;m\n",
      "\u001b[1;33m[Open3D WARNING] [SimpleShaderForLineSet] Binding failed with empty geometry::LineSet.\u001b[0;m\n",
      "\u001b[1;33m[Open3D WARNING] [SimpleShaderForLineSet] Binding failed when preparing data.\u001b[0;m\n",
      "\u001b[1;33m[Open3D WARNING] [SimpleShaderForLineSet] Something is wrong in compiling or binding.\u001b[0;m\n",
      "\u001b[1;33m[Open3D WARNING] [SimpleShaderForLineSet] Binding failed with empty geometry::LineSet.\u001b[0;m\n",
      "\u001b[1;33m[Open3D WARNING] [SimpleShaderForLineSet] Binding failed when preparing data.\u001b[0;m\n",
      "\u001b[1;33m[Open3D WARNING] [SimpleShaderForLineSet] Something is wrong in compiling or binding.\u001b[0;m\n",
      "\u001b[1;33m[Open3D WARNING] [SimpleShaderForLineSet] Binding failed with empty geometry::LineSet.\u001b[0;m\n",
      "\u001b[1;33m[Open3D WARNING] [SimpleShaderForLineSet] Binding failed when preparing data.\u001b[0;m\n",
      "\u001b[1;33m[Open3D WARNING] [SimpleShaderForLineSet] Something is wrong in compiling or binding.\u001b[0;m\n"
     ]
    }
   ],
   "source": [
    "boxIndex = 28\n",
    "\n",
    "skeletonPoints = [octree.boxes[boxIndex].getBoxCentroid()] + [b.getBoxCentroid() for b in octree.boxes[boxIndex].neighbors] \n",
    "skeletonPoints = np.array(skeletonPoints)\n",
    "\n",
    "nearbyPoints = list(octree.boxes[boxIndex].points) + [p for box in octree.boxes[boxIndex].neighbors for p in box.points]\n",
    "nearbyPoints = np.array(nearbyPoints)\n",
    "\n",
    "lines = [[0,i] for i in range(1,len(skeletonPoints))]\n",
    "\n",
    "pcd = o3d.geometry.PointCloud()\n",
    "pcd.points = o3d.utility.Vector3dVector(nearbyPoints)\n",
    "pcd.paint_uniform_color((1, 0, 0))\n",
    "\n",
    "pcd2 = o3d.geometry.PointCloud()\n",
    "pcd2.points = o3d.utility.Vector3dVector(skeletonPoints)\n",
    "pcd2.paint_uniform_color((0, 1, 0))\n",
    "\n",
    "edges = o3d.geometry.LineSet()\n",
    "edges.points = o3d.utility.Vector3dVector(skeletonPoints)\n",
    "edges.lines = o3d.utility.Vector2iVector(lines)\n",
    "\n",
    "o3d.visualization.draw_geometries([pcd, pcd2, edges])"
   ]
  },
  {
   "cell_type": "code",
   "execution_count": 124,
   "id": "3e1daf23-38da-4bf4-8000-49ed57753b8d",
   "metadata": {},
   "outputs": [
    {
     "name": "stdout",
     "output_type": "stream",
     "text": [
      "[[427.95139518 731.56096882 571.23185808]\n",
      " [415.27154587 716.0032989  568.1600374 ]\n",
      " [421.83800731 724.73704891 569.87393408]\n",
      " [481.52140797 748.7597728  574.99288239]]\n",
      "[[422.4737  747.52454 574.35657]\n",
      " [414.0849  698.32965 564.89886]\n",
      " [418.49454 726.4365  569.9075 ]\n",
      " [491.50912 748.7374  575.0701 ]]\n"
     ]
    }
   ],
   "source": [
    "adjustedSkeletonPoints = contractPoints(skeletonPoints, nearbyPoints, attraction=50, contraction=0.5)\n",
    "\n",
    "print(adjustedSkeletonPoints)\n",
    "print(skeletonPoints)\n",
    "\n",
    "skeletonPoints = [octree.boxes[boxIndex].getBoxCentroid()] + [b.getBoxCentroid() for b in octree.boxes[boxIndex].neighbors] \n",
    "skeletonPoints = np.array(skeletonPoints)\n",
    "\n",
    "nearbyPoints = list(octree.boxes[boxIndex].points) + [p for box in octree.boxes[boxIndex].neighbors for p in box.points]\n",
    "nearbyPoints = np.array(nearbyPoints)\n",
    "\n",
    "lines = [[0,i] for i in range(1,len(skeletonPoints))]\n",
    "\n",
    "pcd = o3d.geometry.PointCloud()\n",
    "pcd.points = o3d.utility.Vector3dVector(nearbyPoints)\n",
    "pcd.paint_uniform_color((1, 0, 0))\n",
    "\n",
    "pcd2 = o3d.geometry.PointCloud()\n",
    "pcd2.points = o3d.utility.Vector3dVector(skeletonPoints)\n",
    "pcd2.paint_uniform_color((0, 1, 0))\n",
    "\n",
    "pcd3 = o3d.geometry.PointCloud()\n",
    "pcd3.points = o3d.utility.Vector3dVector(adjustedSkeletonPoints)\n",
    "pcd3.paint_uniform_color((0, 0, 1))\n",
    "\n",
    "\n",
    "edges = o3d.geometry.LineSet()\n",
    "edges.points = o3d.utility.Vector3dVector(adjustedSkeletonPoints)\n",
    "edges.lines = o3d.utility.Vector2iVector(lines)\n",
    "\n",
    "o3d.visualization.draw_geometries([pcd, pcd2, pcd3, edges])"
   ]
  },
  {
   "cell_type": "code",
   "execution_count": 7,
   "id": "9820e666-cb20-487c-8254-303e4bbb74f7",
   "metadata": {},
   "outputs": [
    {
     "name": "stderr",
     "output_type": "stream",
     "text": [
      "100%|█████████████████████████████| 1054/1054 [00:42<00:00, 24.62it/s]\n"
     ]
    }
   ],
   "source": [
    "newSkeletonPoints = np.copy(octree.skeletonPoints)\n",
    "kdTree = KDTree(points)\n",
    "boxSize = np.sqrt(np.sum(octree.boxes[0].getBoxSize()**2))/4\n",
    "\n",
    "nearbyPoints = kdTree.query_ball_point(newSkeletonPoints, boxSize)\n",
    "\n",
    "for i in tqdm(range(len(newSkeletonPoints))):\n",
    "    \n",
    "    if len(nearbyPoints[i]) <= 35:\n",
    "        continue\n",
    "\n",
    "    #conPoints = np.concatenate((newSkeletonPoints[i][None,:], points[np.array(nearbyPoints[i], dtype=np.int64)]))\n",
    "    adjustedSkeletonPoints = contractPoints(newSkeletonPoints[i][None,:], points[np.array(nearbyPoints[i], dtype=np.int64)], attraction=1, contraction=0.5)\n",
    "\n",
    "    newSkeletonPoints[i] = adjustedSkeletonPoints[0]\n",
    "    \n",
    "    # pcd = o3d.geometry.PointCloud()\n",
    "    # pcd.points = o3d.utility.Vector3dVector(points[np.array(nearbyPoints[i], dtype=np.int64)])\n",
    "    # pcd.paint_uniform_color((1, 0, 0))\n",
    "    \n",
    "    # pcd2 = o3d.geometry.PointCloud()\n",
    "    # pcd2.points = o3d.utility.Vector3dVector(adjustedSkeletonPoints)\n",
    "    # pcd2.paint_uniform_color((0, 1, 0))\n",
    "    \n",
    "    # pcd3 = o3d.geometry.PointCloud()\n",
    "    # pcd3.points = o3d.utility.Vector3dVector(newSkeletonPoints[i:i+1])\n",
    "    # pcd3.paint_uniform_color((0, 0, 1))\n",
    "    \n",
    "    # # lines = o3d.geometry.LineSet()\n",
    "    # # lines.points = o3d.utility.Vector3dVector(octree.skeletonPoints)\n",
    "    # # edges = np.array(np.where(octree.skeletonAdjMat > 0), dtype=np.int64).T\n",
    "    # # lines.lines = o3d.utility.Vector2iVector(edges)\n",
    "    # # lines.paint_uniform_color((0, 0, 1))\n",
    "    \n",
    "    \n",
    "    # # edges = o3d.geometry.LineSet()\n",
    "    # # edges.points = o3d.utility.Vector3dVector(skeletonPoints)\n",
    "    # # edges.lines = o3d.utility.Vector2iVector(lines)\n",
    "    \n",
    "    # o3d.visualization.draw_geometries([pcd, pcd2, pcd3])#, lines])"
   ]
  },
  {
   "cell_type": "code",
   "execution_count": 13,
   "id": "d11f8b9a-a816-46a9-b521-7438e7e338bb",
   "metadata": {},
   "outputs": [
    {
     "name": "stderr",
     "output_type": "stream",
     "text": [
      "  0%|                                        | 0/1023 [00:00<?, ?it/s]"
     ]
    },
    {
     "name": "stdout",
     "output_type": "stream",
     "text": [
      "1587\n"
     ]
    },
    {
     "name": "stderr",
     "output_type": "stream",
     "text": [
      "  0%|                                | 1/1023 [00:03<55:36,  3.26s/it]"
     ]
    },
    {
     "name": "stdout",
     "output_type": "stream",
     "text": [
      "2690\n"
     ]
    },
    {
     "name": "stderr",
     "output_type": "stream",
     "text": [
      "  0%|                                | 2/1023 [00:05<46:00,  2.70s/it]"
     ]
    },
    {
     "name": "stdout",
     "output_type": "stream",
     "text": [
      "2481\n"
     ]
    },
    {
     "name": "stderr",
     "output_type": "stream",
     "text": [
      "  0%|                                | 3/1023 [00:07<37:41,  2.22s/it]"
     ]
    },
    {
     "name": "stdout",
     "output_type": "stream",
     "text": [
      "1270\n"
     ]
    },
    {
     "name": "stderr",
     "output_type": "stream",
     "text": [
      "  0%|▏                               | 4/1023 [00:08<28:59,  1.71s/it]"
     ]
    },
    {
     "name": "stdout",
     "output_type": "stream",
     "text": [
      "779\n"
     ]
    },
    {
     "name": "stderr",
     "output_type": "stream",
     "text": [
      "  0%|▏                               | 5/1023 [00:09<25:13,  1.49s/it]"
     ]
    },
    {
     "name": "stdout",
     "output_type": "stream",
     "text": [
      "1733\n"
     ]
    },
    {
     "name": "stderr",
     "output_type": "stream",
     "text": [
      "  1%|▏                               | 6/1023 [00:13<39:33,  2.33s/it]"
     ]
    },
    {
     "name": "stdout",
     "output_type": "stream",
     "text": [
      "1806\n"
     ]
    },
    {
     "name": "stderr",
     "output_type": "stream",
     "text": [
      "  1%|▏                             | 7/1023 [00:21<1:10:45,  4.18s/it]"
     ]
    },
    {
     "name": "stdout",
     "output_type": "stream",
     "text": [
      "1823\n"
     ]
    },
    {
     "name": "stderr",
     "output_type": "stream",
     "text": [
      "  1%|▏                             | 8/1023 [00:28<1:27:39,  5.18s/it]"
     ]
    },
    {
     "name": "stdout",
     "output_type": "stream",
     "text": [
      "3290\n"
     ]
    },
    {
     "name": "stderr",
     "output_type": "stream",
     "text": [
      "  1%|▎                             | 9/1023 [00:32<1:19:02,  4.68s/it]"
     ]
    },
    {
     "name": "stdout",
     "output_type": "stream",
     "text": [
      "112\n"
     ]
    },
    {
     "name": "stderr",
     "output_type": "stream",
     "text": [
      "  1%|▎                            | 10/1023 [00:33<1:01:46,  3.66s/it]"
     ]
    },
    {
     "name": "stdout",
     "output_type": "stream",
     "text": [
      "158\n"
     ]
    },
    {
     "name": "stderr",
     "output_type": "stream",
     "text": [
      "  1%|▎                              | 11/1023 [00:34<50:07,  2.97s/it]"
     ]
    },
    {
     "name": "stdout",
     "output_type": "stream",
     "text": [
      "3175\n"
     ]
    },
    {
     "name": "stderr",
     "output_type": "stream",
     "text": [
      "  1%|▎                              | 12/1023 [00:37<49:16,  2.92s/it]"
     ]
    },
    {
     "name": "stdout",
     "output_type": "stream",
     "text": [
      "1968\n"
     ]
    },
    {
     "name": "stderr",
     "output_type": "stream",
     "text": [
      "  1%|▍                              | 13/1023 [00:39<46:01,  2.73s/it]"
     ]
    },
    {
     "name": "stdout",
     "output_type": "stream",
     "text": [
      "793\n"
     ]
    },
    {
     "name": "stderr",
     "output_type": "stream",
     "text": [
      "  1%|▍                              | 14/1023 [00:40<36:27,  2.17s/it]"
     ]
    },
    {
     "name": "stdout",
     "output_type": "stream",
     "text": [
      "601\n"
     ]
    },
    {
     "name": "stderr",
     "output_type": "stream",
     "text": [
      "  1%|▍                              | 15/1023 [00:42<31:39,  1.88s/it]"
     ]
    },
    {
     "name": "stdout",
     "output_type": "stream",
     "text": [
      "350\n"
     ]
    },
    {
     "name": "stderr",
     "output_type": "stream",
     "text": [
      "  2%|▍                            | 16/1023 [00:59<1:49:37,  6.53s/it]"
     ]
    },
    {
     "name": "stdout",
     "output_type": "stream",
     "text": [
      "246\n"
     ]
    },
    {
     "name": "stderr",
     "output_type": "stream",
     "text": [
      "  2%|▍                            | 17/1023 [01:00<1:21:03,  4.83s/it]"
     ]
    },
    {
     "name": "stdout",
     "output_type": "stream",
     "text": [
      "2006\n"
     ]
    },
    {
     "name": "stderr",
     "output_type": "stream",
     "text": [
      "  2%|▌                            | 18/1023 [01:03<1:13:26,  4.38s/it]"
     ]
    },
    {
     "name": "stdout",
     "output_type": "stream",
     "text": [
      "3699\n"
     ]
    },
    {
     "name": "stderr",
     "output_type": "stream",
     "text": [
      "  2%|▌                            | 19/1023 [01:05<1:02:56,  3.76s/it]"
     ]
    },
    {
     "name": "stdout",
     "output_type": "stream",
     "text": [
      "2539\n"
     ]
    },
    {
     "name": "stderr",
     "output_type": "stream",
     "text": [
      "  2%|▌                              | 20/1023 [01:08<55:40,  3.33s/it]"
     ]
    },
    {
     "name": "stdout",
     "output_type": "stream",
     "text": [
      "416\n"
     ]
    },
    {
     "name": "stderr",
     "output_type": "stream",
     "text": [
      "  2%|▋                              | 21/1023 [01:09<46:43,  2.80s/it]"
     ]
    },
    {
     "name": "stdout",
     "output_type": "stream",
     "text": [
      "748\n"
     ]
    },
    {
     "name": "stderr",
     "output_type": "stream",
     "text": [
      "  2%|▋                              | 22/1023 [01:12<43:57,  2.64s/it]"
     ]
    },
    {
     "name": "stdout",
     "output_type": "stream",
     "text": [
      "1734\n"
     ]
    },
    {
     "name": "stderr",
     "output_type": "stream",
     "text": [
      "  2%|▋                              | 23/1023 [01:14<43:16,  2.60s/it]"
     ]
    },
    {
     "name": "stdout",
     "output_type": "stream",
     "text": [
      "490\n"
     ]
    },
    {
     "name": "stderr",
     "output_type": "stream",
     "text": [
      "  2%|▋                              | 24/1023 [01:15<34:37,  2.08s/it]"
     ]
    },
    {
     "name": "stdout",
     "output_type": "stream",
     "text": [
      "800\n"
     ]
    },
    {
     "name": "stderr",
     "output_type": "stream",
     "text": [
      "  2%|▊                              | 25/1023 [01:16<28:18,  1.70s/it]"
     ]
    },
    {
     "name": "stdout",
     "output_type": "stream",
     "text": [
      "319\n"
     ]
    },
    {
     "name": "stderr",
     "output_type": "stream",
     "text": [
      "  3%|▊                              | 26/1023 [01:17<27:04,  1.63s/it]"
     ]
    },
    {
     "name": "stdout",
     "output_type": "stream",
     "text": [
      "597\n"
     ]
    },
    {
     "name": "stderr",
     "output_type": "stream",
     "text": [
      "  3%|▊                              | 27/1023 [01:20<30:27,  1.84s/it]"
     ]
    },
    {
     "name": "stdout",
     "output_type": "stream",
     "text": [
      "12688\n"
     ]
    },
    {
     "name": "stderr",
     "output_type": "stream",
     "text": [
      "  3%|▊                            | 28/1023 [01:30<1:13:14,  4.42s/it]"
     ]
    },
    {
     "name": "stdout",
     "output_type": "stream",
     "text": [
      "61976\n"
     ]
    },
    {
     "name": "stderr",
     "output_type": "stream",
     "text": [
      "  3%|▊                           | 28/1023 [18:43<11:05:24, 40.13s/it]\n"
     ]
    },
    {
     "ename": "KeyboardInterrupt",
     "evalue": "",
     "output_type": "error",
     "traceback": [
      "\u001b[0;31m---------------------------------------------------------------------------\u001b[0m",
      "\u001b[0;31mKeyboardInterrupt\u001b[0m                         Traceback (most recent call last)",
      "Cell \u001b[0;32mIn[13], line 58\u001b[0m\n\u001b[1;32m     56\u001b[0m adjustedPoints \u001b[38;5;241m=\u001b[39m edgePoints\n\u001b[1;32m     57\u001b[0m \u001b[38;5;28;01mfor\u001b[39;00m i \u001b[38;5;129;01min\u001b[39;00m \u001b[38;5;28mrange\u001b[39m(iterations):\n\u001b[0;32m---> 58\u001b[0m     adjustedPoints \u001b[38;5;241m=\u001b[39m \u001b[43mcontractPoints\u001b[49m\u001b[43m(\u001b[49m\u001b[43madjustedPoints\u001b[49m\u001b[43m,\u001b[49m\u001b[43m \u001b[49m\u001b[43mnearbyPoints\u001b[49m\u001b[43m,\u001b[49m\u001b[43m \u001b[49m\u001b[43mpointMasses\u001b[49m\u001b[38;5;241;43m=\u001b[39;49m\u001b[43medgeWeights\u001b[49m\u001b[43m,\u001b[49m\u001b[43m \u001b[49m\u001b[43mattraction\u001b[49m\u001b[38;5;241;43m=\u001b[39;49m\u001b[43mattraction\u001b[49m\u001b[43m,\u001b[49m\u001b[43m \u001b[49m\u001b[43mcontraction\u001b[49m\u001b[38;5;241;43m=\u001b[39;49m\u001b[43mcontraction\u001b[49m\u001b[43m)\u001b[49m\n\u001b[1;32m     60\u001b[0m adjustedEdgePoints \u001b[38;5;241m=\u001b[39m adjustedPoints[:\u001b[38;5;28mlen\u001b[39m(edgePoints)]\n\u001b[1;32m     61\u001b[0m \u001b[38;5;66;03m# Check for differences in direction between subsequent points\u001b[39;00m\n",
      "Cell \u001b[0;32mIn[2], line 53\u001b[0m, in \u001b[0;36mcontractPoints\u001b[0;34m(points, referencePoints, pointMasses, attraction, contraction)\u001b[0m\n\u001b[1;32m     50\u001b[0m A_new \u001b[38;5;241m=\u001b[39m A\u001b[38;5;241m.\u001b[39mT \u001b[38;5;241m@\u001b[39m A\n\u001b[1;32m     52\u001b[0m \u001b[38;5;66;03m# Solve each dimension separately\u001b[39;00m\n\u001b[0;32m---> 53\u001b[0m solvedAxes \u001b[38;5;241m=\u001b[39m \u001b[43m[\u001b[49m\u001b[43msla\u001b[49m\u001b[38;5;241;43m.\u001b[39;49m\u001b[43mspsolve\u001b[49m\u001b[43m(\u001b[49m\u001b[43mA_new\u001b[49m\u001b[43m,\u001b[49m\u001b[43m \u001b[49m\u001b[43mA\u001b[49m\u001b[38;5;241;43m.\u001b[39;49m\u001b[43mT\u001b[49m\u001b[43m \u001b[49m\u001b[38;5;241;43m@\u001b[39;49m\u001b[43m \u001b[49m\u001b[43mb\u001b[49m\u001b[43m[\u001b[49m\u001b[43m:\u001b[49m\u001b[43m,\u001b[49m\u001b[43mi\u001b[49m\u001b[43m]\u001b[49m\u001b[43m,\u001b[49m\u001b[43m \u001b[49m\u001b[43mpermc_spec\u001b[49m\u001b[38;5;241;43m=\u001b[39;49m\u001b[38;5;124;43m'\u001b[39;49m\u001b[38;5;124;43mCOLAMD\u001b[39;49m\u001b[38;5;124;43m'\u001b[39;49m\u001b[43m)\u001b[49m\u001b[43m \u001b[49m\u001b[38;5;28;43;01mfor\u001b[39;49;00m\u001b[43m \u001b[49m\u001b[43mi\u001b[49m\u001b[43m \u001b[49m\u001b[38;5;129;43;01min\u001b[39;49;00m\u001b[43m \u001b[49m\u001b[38;5;28;43mrange\u001b[39;49m\u001b[43m(\u001b[49m\u001b[43mdim\u001b[49m\u001b[43m)\u001b[49m\u001b[43m]\u001b[49m\n\u001b[1;32m     54\u001b[0m \u001b[38;5;66;03m# If we are in 2D, just add back in the previous z dimension (no need to solve it since\u001b[39;00m\n\u001b[1;32m     55\u001b[0m \u001b[38;5;66;03m# we will throw it away eventually)\u001b[39;00m\n\u001b[1;32m     56\u001b[0m \u001b[38;5;28;01mif\u001b[39;00m dim \u001b[38;5;241m==\u001b[39m \u001b[38;5;241m2\u001b[39m:\n",
      "Cell \u001b[0;32mIn[2], line 53\u001b[0m, in \u001b[0;36m<listcomp>\u001b[0;34m(.0)\u001b[0m\n\u001b[1;32m     50\u001b[0m A_new \u001b[38;5;241m=\u001b[39m A\u001b[38;5;241m.\u001b[39mT \u001b[38;5;241m@\u001b[39m A\n\u001b[1;32m     52\u001b[0m \u001b[38;5;66;03m# Solve each dimension separately\u001b[39;00m\n\u001b[0;32m---> 53\u001b[0m solvedAxes \u001b[38;5;241m=\u001b[39m [\u001b[43msla\u001b[49m\u001b[38;5;241;43m.\u001b[39;49m\u001b[43mspsolve\u001b[49m\u001b[43m(\u001b[49m\u001b[43mA_new\u001b[49m\u001b[43m,\u001b[49m\u001b[43m \u001b[49m\u001b[43mA\u001b[49m\u001b[38;5;241;43m.\u001b[39;49m\u001b[43mT\u001b[49m\u001b[43m \u001b[49m\u001b[38;5;241;43m@\u001b[39;49m\u001b[43m \u001b[49m\u001b[43mb\u001b[49m\u001b[43m[\u001b[49m\u001b[43m:\u001b[49m\u001b[43m,\u001b[49m\u001b[43mi\u001b[49m\u001b[43m]\u001b[49m\u001b[43m,\u001b[49m\u001b[43m \u001b[49m\u001b[43mpermc_spec\u001b[49m\u001b[38;5;241;43m=\u001b[39;49m\u001b[38;5;124;43m'\u001b[39;49m\u001b[38;5;124;43mCOLAMD\u001b[39;49m\u001b[38;5;124;43m'\u001b[39;49m\u001b[43m)\u001b[49m \u001b[38;5;28;01mfor\u001b[39;00m i \u001b[38;5;129;01min\u001b[39;00m \u001b[38;5;28mrange\u001b[39m(dim)]\n\u001b[1;32m     54\u001b[0m \u001b[38;5;66;03m# If we are in 2D, just add back in the previous z dimension (no need to solve it since\u001b[39;00m\n\u001b[1;32m     55\u001b[0m \u001b[38;5;66;03m# we will throw it away eventually)\u001b[39;00m\n\u001b[1;32m     56\u001b[0m \u001b[38;5;28;01mif\u001b[39;00m dim \u001b[38;5;241m==\u001b[39m \u001b[38;5;241m2\u001b[39m:\n",
      "File \u001b[0;32m~/miniconda3/envs/311/lib/python3.11/site-packages/scipy/sparse/linalg/_dsolve/linsolve.py:293\u001b[0m, in \u001b[0;36mspsolve\u001b[0;34m(A, b, permc_spec, use_umfpack)\u001b[0m\n\u001b[1;32m    291\u001b[0m indptr \u001b[38;5;241m=\u001b[39m A\u001b[38;5;241m.\u001b[39mindptr\u001b[38;5;241m.\u001b[39mastype(np\u001b[38;5;241m.\u001b[39mintc, copy\u001b[38;5;241m=\u001b[39m\u001b[38;5;28;01mFalse\u001b[39;00m)\n\u001b[1;32m    292\u001b[0m options \u001b[38;5;241m=\u001b[39m \u001b[38;5;28mdict\u001b[39m(ColPerm\u001b[38;5;241m=\u001b[39mpermc_spec)\n\u001b[0;32m--> 293\u001b[0m x, info \u001b[38;5;241m=\u001b[39m \u001b[43m_superlu\u001b[49m\u001b[38;5;241;43m.\u001b[39;49m\u001b[43mgssv\u001b[49m\u001b[43m(\u001b[49m\u001b[43mN\u001b[49m\u001b[43m,\u001b[49m\u001b[43m \u001b[49m\u001b[43mA\u001b[49m\u001b[38;5;241;43m.\u001b[39;49m\u001b[43mnnz\u001b[49m\u001b[43m,\u001b[49m\u001b[43m \u001b[49m\u001b[43mA\u001b[49m\u001b[38;5;241;43m.\u001b[39;49m\u001b[43mdata\u001b[49m\u001b[43m,\u001b[49m\u001b[43m \u001b[49m\u001b[43mindices\u001b[49m\u001b[43m,\u001b[49m\u001b[43m \u001b[49m\u001b[43mindptr\u001b[49m\u001b[43m,\u001b[49m\n\u001b[1;32m    294\u001b[0m \u001b[43m                        \u001b[49m\u001b[43mb\u001b[49m\u001b[43m,\u001b[49m\u001b[43m \u001b[49m\u001b[43mflag\u001b[49m\u001b[43m,\u001b[49m\u001b[43m \u001b[49m\u001b[43moptions\u001b[49m\u001b[38;5;241;43m=\u001b[39;49m\u001b[43moptions\u001b[49m\u001b[43m)\u001b[49m\n\u001b[1;32m    295\u001b[0m \u001b[38;5;28;01mif\u001b[39;00m info \u001b[38;5;241m!=\u001b[39m \u001b[38;5;241m0\u001b[39m:\n\u001b[1;32m    296\u001b[0m     warn(\u001b[38;5;124m\"\u001b[39m\u001b[38;5;124mMatrix is exactly singular\u001b[39m\u001b[38;5;124m\"\u001b[39m, MatrixRankWarning, stacklevel\u001b[38;5;241m=\u001b[39m\u001b[38;5;241m2\u001b[39m)\n",
      "\u001b[0;31mKeyboardInterrupt\u001b[0m: "
     ]
    }
   ],
   "source": [
    "skeletonPoints = newSkeletonPoints\n",
    "\n",
    "# Parameters\n",
    "iterations = 5\n",
    "attraction = 50\n",
    "contraction = 0.5\n",
    "directionThreshold = 0.5\n",
    "maxTurnPoints = 2\n",
    "\n",
    "# Enumerate over all edges\n",
    "adjMat = octree.skeletonAdjMat\n",
    "edgePairs = np.array(np.where(adjMat > 0), dtype=np.int64).T\n",
    "\n",
    "edgePairs = [np.sort(e) for e in edgePairs]\n",
    "edgePairs = np.unique(edgePairs, axis=0)\n",
    "\n",
    "kdTree = KDTree(points)\n",
    "\n",
    "boxSize = np.sqrt(np.sum(octree.boxes[0].getBoxSize()**2))/2\n",
    "\n",
    "testAllPoints = np.zeros((0,3))\n",
    "\n",
    "for e in tqdm(edgePairs):\n",
    "    edgeLength = np.sqrt(np.sum((skeletonPoints[e[0]] - skeletonPoints[e[1]])**2))\n",
    "    \n",
    "    # Find nearby points\n",
    "    nearbyPointsIndices = kdTree.query_ball_point(skeletonPoints[[e[0], e[1]]], edgeLength)\n",
    "    nearbyPointsIndices = np.unique([ind for point in nearbyPointsIndices for ind in point])\n",
    "\n",
    "    print(len(nearbyPointsIndices))\n",
    "    if len(nearbyPointsIndices) == 0:\n",
    "        continue\n",
    "        \n",
    "    nearbyPoints = points[nearbyPointsIndices]\n",
    "\n",
    "    # Discretize the edge\n",
    "    tArr = np.linspace(0, 1, 30)\n",
    "    edgePoints = skeletonPoints[e[1]] + np.multiply.outer(tArr, (skeletonPoints[e[0]] - skeletonPoints[e[1]]))\n",
    "\n",
    "    edgeWeights = (np.abs(tArr - np.mean(tArr))) + 1\n",
    "    edgeWeights /= np.max(edgeWeights)\n",
    "\n",
    "    pcd = o3d.geometry.PointCloud()\n",
    "    pcd.points = o3d.utility.Vector3dVector(nearbyPoints)\n",
    "    pcd.paint_uniform_color((1, 0, 0))\n",
    "\n",
    "    pcd3 = o3d.geometry.PointCloud()\n",
    "    pcd3.points = o3d.utility.Vector3dVector(edgePoints)\n",
    "    pcd3.paint_uniform_color((0, 0, 1))\n",
    "\n",
    "\n",
    "    o3d.visualization.draw_geometries([pcd, pcd3])#, lines])\n",
    "\n",
    "    # Contract the edge points with the nearby points as a reference\n",
    "    #conPoints = np.concatenate(())\n",
    "    adjustedPoints = edgePoints\n",
    "    for i in range(iterations):\n",
    "        adjustedPoints = contractPoints(adjustedPoints, nearbyPoints, pointMasses=edgeWeights, attraction=attraction, contraction=contraction)\n",
    "        \n",
    "    adjustedEdgePoints = adjustedPoints[:len(edgePoints)]\n",
    "    # Check for differences in direction between subsequent points\n",
    "    directionDiff = adjustedEdgePoints[1:] - adjustedEdgePoints[:-1]\n",
    "    directionDiff = np.array([d / np.sqrt(np.sum(d**2, axis=-1)) for d in directionDiff])\n",
    "    directionDiffMag = np.array([np.dot(directionDiff[i], directionDiff[i+1]) for i in range(len(directionDiff)-1)])\n",
    "    \n",
    "    # plt.plot(directionDiffMag)\n",
    "    # plt.show()\n",
    "\n",
    "    turnPoints = np.where(directionDiffMag < directionThreshold)[0]\n",
    "\n",
    "    if len(turnPoints) > maxTurnPoints:\n",
    "        continue\n",
    "\n",
    "    # Fit each section as a line.\n",
    "    # plt.plot(directionDiffMag)\n",
    "    # plt.show()\n",
    "\n",
    "    testAllPoints = np.concatenate((testAllPoints, adjustedEdgePoints))\n",
    "\n",
    "    # pcd = o3d.geometry.PointCloud()\n",
    "    # pcd.points = o3d.utility.Vector3dVector(nearbyPoints)\n",
    "    # pcd.paint_uniform_color((1, 0, 0))\n",
    "    \n",
    "    # pcd2 = o3d.geometry.PointCloud()\n",
    "    # pcd2.points = o3d.utility.Vector3dVector(adjustedPoints)\n",
    "    # pcd2.paint_uniform_color((0, 1, 0))\n",
    "\n",
    "    # pcd3 = o3d.geometry.PointCloud()\n",
    "    # pcd3.points = o3d.utility.Vector3dVector(edgePoints)\n",
    "    # pcd3.paint_uniform_color((0, 0, 1))\n",
    "\n",
    "    # pcd4 = o3d.geometry.PointCloud()\n",
    "    # pcd4.points = o3d.utility.Vector3dVector(adjustedEdgePoints)\n",
    "    # pcd4.paint_uniform_color((1, 0, 1))\n",
    "\n",
    "    #o3d.visualization.draw_geometries([pcd, pcd2, pcd3, pcd4])#, lines])\n"
   ]
  },
  {
   "cell_type": "code",
   "execution_count": 239,
   "id": "25d212fc-d0bc-44e4-bc23-3ff0c672c4bd",
   "metadata": {},
   "outputs": [],
   "source": [
    "pcd = o3d.geometry.PointCloud()\n",
    "pcd.points = o3d.utility.Vector3dVector(testAllPoints)\n",
    "pcd.paint_uniform_color((1, 0, 0))\n",
    "\n",
    "o3d.visualization.draw_geometries([pcd])"
   ]
  },
  {
   "cell_type": "code",
   "execution_count": 240,
   "id": "03c98995-1162-4c92-a073-80750acc07b5",
   "metadata": {},
   "outputs": [],
   "source": [
    "pcd = o3d.geometry.PointCloud()\n",
    "pcd.points = o3d.utility.Vector3dVector(points)\n",
    "pcd.paint_uniform_color((1, 0, 0))\n",
    "\n",
    "pcd2 = o3d.geometry.PointCloud()\n",
    "pcd2.points = o3d.utility.Vector3dVector(octree.skeletonPoints)\n",
    "pcd2.paint_uniform_color((0, 1, 0))\n",
    "\n",
    "pcd3 = o3d.geometry.PointCloud()\n",
    "pcd3.points = o3d.utility.Vector3dVector(newSkeletonPoints)\n",
    "pcd3.paint_uniform_color((0, 0, 1))\n",
    "\n",
    "lines = o3d.geometry.LineSet()\n",
    "lines.points = o3d.utility.Vector3dVector(octree.skeletonPoints)\n",
    "edges = np.array(np.where(octree.skeletonAdjMat > 0), dtype=np.int64).T\n",
    "lines.lines = o3d.utility.Vector2iVector(edges)\n",
    "lines.paint_uniform_color((0, 0, 1))\n",
    "\n",
    "\n",
    "lines2 = o3d.geometry.LineSet()\n",
    "lines2.points = o3d.utility.Vector3dVector(newSkeletonPoints)\n",
    "edges = np.array(np.where(octree.skeletonAdjMat > 0), dtype=np.int64).T\n",
    "lines2.lines = o3d.utility.Vector2iVector(edges)\n",
    "lines2.paint_uniform_color((0, 1, 1))\n",
    "\n",
    "o3d.visualization.draw_geometries([pcd, pcd2, pcd3, lines, lines2])"
   ]
  },
  {
   "cell_type": "code",
   "execution_count": 128,
   "id": "abcdfef9-2d3e-4436-bb2c-aeb115032630",
   "metadata": {},
   "outputs": [
    {
     "data": {
      "text/plain": [
       "0.0"
      ]
     },
     "execution_count": 128,
     "metadata": {},
     "output_type": "execute_result"
    }
   ],
   "source": [
    "np.max(octree.skeletonPoints - newSkeletonPoints)"
   ]
  },
  {
   "cell_type": "code",
   "execution_count": null,
   "id": "aaaad043-acdc-41fe-8d1e-84a57aeb875b",
   "metadata": {},
   "outputs": [],
   "source": []
  }
 ],
 "metadata": {
  "kernelspec": {
   "display_name": "Python 3 (ipykernel)",
   "language": "python",
   "name": "python3"
  },
  "language_info": {
   "codemirror_mode": {
    "name": "ipython",
    "version": 3
   },
   "file_extension": ".py",
   "mimetype": "text/x-python",
   "name": "python",
   "nbconvert_exporter": "python",
   "pygments_lexer": "ipython3",
   "version": "3.11.9"
  }
 },
 "nbformat": 4,
 "nbformat_minor": 5
}
