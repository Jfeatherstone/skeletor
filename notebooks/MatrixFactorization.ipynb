{
 "cells": [
  {
   "cell_type": "code",
   "execution_count": null,
   "id": "5b3a3fbb-dc57-4ab9-99a0-2fc24a45bb7b",
   "metadata": {},
   "outputs": [],
   "source": [
    "import numpy as np\n",
    "import matplotlib.pyplot as plt\n",
    "\n",
    "import sys\n",
    "sys.path.append('../')\n",
    "\n",
    "import skeletor as sk\n",
    "\n",
    "from skeletor.data import loadTestDataset, TEST_DATASETS_2D, TEST_DATASETS_3D\n",
    "from skeletor.skeleton import LaplacianContractionSkeleton\n",
    "from skeletor.utils import plotSpatialGraph\n",
    "\n",
    "import time\n",
    "from tqdm import tqdm\n",
    "import robust_laplacian\n",
    "\n",
    "from pc_skeletor import SLBC, LBC, Dataset\n",
    "import open3d as o3d\n",
    "\n",
    "from sklearn.cluster import OPTICS, DBSCAN\n",
    "from sklearn.decomposition import TruncatedSVD\n",
    "from scipy.spatial import KDTree"
   ]
  },
  {
   "cell_type": "markdown",
   "id": "8bd34fbb-1212-480f-bd11-c1e7ca7c2a77",
   "metadata": {},
   "source": [
    "## Load data"
   ]
  },
  {
   "cell_type": "code",
   "execution_count": null,
   "id": "f8511200-9fe1-418a-a21e-09a2e61e3138",
   "metadata": {},
   "outputs": [],
   "source": [
    "#points = loadTestDataset('2d_curve_3', extraNoise=.005)\n",
    "points = np.load('/home/jack/Workspaces/data/point_clouds/2d_web_scan.npy')\n",
    "#points = np.load('/home/jack/Workspaces/data/point_clouds/latro_sheet_2024-07-11_A.npy')\n",
    "dsFactor = 1\n",
    "order = np.arange(points.shape[0])\n",
    "np.random.shuffle(order)\n",
    "points = points[order][::dsFactor,:]\n",
    "#cmScaling = np.array([4800/15, 8000/21, 20000/16.5])\n",
    "#points = points*cmScaling\n",
    "\n",
    "# Convert to an open3d point cloud\n",
    "# pointCloud = o3d.geometry.PointCloud()\n",
    "\n",
    "# pointCloud.points = o3d.utility.Vector3dVector(points)\n",
    "\n",
    "# o3d.visualization.draw_geometries([pointCloud])\n",
    "LaplacianContractionSkeleton(points).plot(plotSkeleton=False, backend='o3d')\n",
    "print(len(points))"
   ]
  },
  {
   "cell_type": "markdown",
   "id": "21b21bc0-2e73-4505-868c-110d0510df1b",
   "metadata": {},
   "source": [
    "## Compute Laplacian"
   ]
  },
  {
   "cell_type": "code",
   "execution_count": null,
   "id": "d36f439e-1eae-4165-82fb-f83ca4ca6b1d",
   "metadata": {},
   "outputs": [],
   "source": [
    "%matplotlib widget\n",
    "L, M = robust_laplacian.point_cloud_laplacian(points)\n",
    "\n",
    "print('Computed L')\n",
    "\n",
    "plt.spy(L, markersize=1)\n",
    "plt.show()"
   ]
  },
  {
   "cell_type": "markdown",
   "id": "3b553cb8-d67b-4f66-b1d1-b397d914fd77",
   "metadata": {},
   "source": [
    "## Identify clusters"
   ]
  },
  {
   "cell_type": "code",
   "execution_count": null,
   "id": "4316a086-a6ca-4b5e-901a-8ce34532482e",
   "metadata": {},
   "outputs": [],
   "source": [
    "kdTree = KDTree(points)\n",
    "nnDistances, nnIndices = kdTree.query(points, 2)\n",
    "avgNNDistance = np.mean(nnDistances[:,1])\n",
    "\n",
    "#cgDensityField, cgCorner = courseGrainField(self.points, latticeSpacing=avgNNDistance, returnCorner=True)\n",
    "#avgDensity = np.mean(cgDensityField) # * nBoxes/numFilledBoxes\n",
    "\n",
    "eps = avgNNDistance*2\n",
    "labels = DBSCAN(eps=eps, leaf_size=20).fit(points).labels_\n",
    "\n",
    "print(f'Found {np.max(labels)+1} clusters')"
   ]
  },
  {
   "cell_type": "markdown",
   "id": "d3227c64-6d52-4123-ba4b-e6b895daaf02",
   "metadata": {},
   "source": [
    "## Show clusters"
   ]
  },
  {
   "cell_type": "code",
   "execution_count": null,
   "id": "bf2e7b07-276f-4742-b537-b17f6df45eb9",
   "metadata": {},
   "outputs": [],
   "source": [
    "# Plot all clusters\n",
    "colors = plt.get_cmap(\"tab20c\")(labels / (np.max(labels) if np.max(labels) > 0 else 1))\n",
    "colors[labels < 0] = 0\n",
    "\n",
    "# Convert to an open3d point cloud\n",
    "pointCloud = o3d.geometry.PointCloud()\n",
    "pointCloud.points = o3d.utility.Vector3dVector(points)\n",
    "pointCloud.colors = o3d.utility.Vector3dVector(colors[:,:3])\n",
    "\n",
    "o3d.visualization.draw_geometries([pointCloud])"
   ]
  },
  {
   "cell_type": "markdown",
   "id": "06d63c6c-ebb2-4d0d-9fdd-686d0ba9eb3a",
   "metadata": {},
   "source": [
    "## Reorder the points according to the clustering"
   ]
  },
  {
   "cell_type": "code",
   "execution_count": null,
   "id": "a65f7a17-489e-427a-a793-385fdb054f58",
   "metadata": {},
   "outputs": [],
   "source": [
    "for _ in range(20):\n",
    "    plt.close()\n",
    "\n",
    "orderedPoints = []\n",
    "groupBoundaries = []\n",
    "for i in np.unique(labels):\n",
    "    clusterPoints = points[labels == i]\n",
    "    orderedPoints += list(clusterPoints)\n",
    "    groupBoundaries += [len(clusterPoints)]\n",
    "\n",
    "orderedPoints = np.array(orderedPoints)\n",
    "orderedLabels = np.concatenate([np.repeat(i, g) for i,g in enumerate(groupBoundaries)])\n",
    "groupBoundaries = np.cumsum(groupBoundaries)\n",
    "\n",
    "L, M = robust_laplacian.point_cloud_laplacian(orderedPoints)\n",
    "\n",
    "plt.spy(L, markersize=1)\n",
    "for x in groupBoundaries:\n",
    "    plt.axvline(x, linestyle='--', c='gray', alpha=.4)\n",
    "    plt.axhline(x, linestyle='--', c='gray', alpha=.4)\n",
    "\n",
    "plt.show()"
   ]
  },
  {
   "cell_type": "markdown",
   "id": "b539efb7-6a9f-40a7-b3d9-44a7f5083f80",
   "metadata": {},
   "source": [
    "## Factorize the laplacian"
   ]
  },
  {
   "cell_type": "code",
   "execution_count": null,
   "id": "0b4760f9-d2c1-4c59-a3ad-a81796dcf05b",
   "metadata": {},
   "outputs": [],
   "source": [
    "plt.close()\n",
    "# Generate an adjacency matrix of the clusters\n",
    "factorizedLArr = []\n",
    "# Start from 1 to ignore unclassified points\n",
    "for i in np.unique(orderedLabels)[1:]-1:\n",
    "    factorizedLArr.append(L[groupBoundaries[i]:groupBoundaries[i+1], groupBoundaries[i]:groupBoundaries[i+1]].todense())\n",
    "\n",
    "# Sum each factorized square in the laplacian matrix\n",
    "# to see which clusters are neighbors to each other.\n",
    "# Formally, this means that two clusters are neighbors\n",
    "# if at least one point in one cluster is adjacent (nearby) to one\n",
    "# point in the other cluster.\n",
    "clusterAdjMat = np.zeros((len(factorizedLArr), len(factorizedLArr)))\n",
    "for i in np.unique(orderedLabels)[1:]-1:\n",
    "    for j in np.unique(orderedLabels)[1:]-1:\n",
    "        clusterAdjMat[i,j] = np.sum(np.abs(L[groupBoundaries[i]:groupBoundaries[i+1], groupBoundaries[j]:groupBoundaries[j+1]]))\n",
    "\n",
    "plt.imshow(clusterAdjMat != 0)\n",
    "plt.colorbar()\n",
    "plt.show()"
   ]
  },
  {
   "cell_type": "markdown",
   "id": "3b2fe539-67da-4069-9d0d-0de27dc54ea2",
   "metadata": {},
   "source": [
    "## Plot a single cluster and its neighbors"
   ]
  },
  {
   "cell_type": "code",
   "execution_count": null,
   "id": "00a4ce60-234e-4439-b9a9-31f0a5a7fb5b",
   "metadata": {},
   "outputs": [],
   "source": [
    "# Plot a single cluster and its neighbors\n",
    "clusterIndex = 10\n",
    "\n",
    "# Convert to an open3d point cloud\n",
    "pointCloud = o3d.geometry.PointCloud()\n",
    "pointCloud.points = o3d.utility.Vector3dVector(points)\n",
    "pointCloud.paint_uniform_color(np.array([0.1, 0.1, 0.1]))\n",
    "\n",
    "singleCluster = o3d.geometry.PointCloud()\n",
    "# Need the +1 here because we have to ignore the \"first\" cluster, which is\n",
    "# actually points that don't belong to a cluster\n",
    "singleCluster.points = o3d.utility.Vector3dVector(orderedPoints[orderedLabels == clusterIndex+1])\n",
    "singleCluster.paint_uniform_color(np.array([0.9, 0.1, 0.1]))\n",
    "\n",
    "neighbors = o3d.geometry.PointCloud()\n",
    "# See above note about the +1\n",
    "neighborIndices = [o in np.where(clusterAdjMat[clusterIndex] != 0)[0]+1 for o in orderedLabels]\n",
    "neighbors.points = o3d.utility.Vector3dVector(orderedPoints[neighborIndices])\n",
    "neighbors.paint_uniform_color(np.array([0.1, 0.9, 0.1]))\n",
    "\n",
    "o3d.visualization.draw_geometries([pointCloud, neighbors, singleCluster])"
   ]
  },
  {
   "cell_type": "markdown",
   "id": "e0b482dc-88ac-4d1b-bb74-3a935c08b720",
   "metadata": {},
   "source": [
    "## Perform contraction on each cluster individually"
   ]
  },
  {
   "cell_type": "code",
   "execution_count": null,
   "id": "faee5dc0-9083-4933-a887-cac416c21662",
   "metadata": {},
   "outputs": [],
   "source": [
    "# Perform contraction on each cluster individually\n",
    "contractedPoints = []\n",
    "for i in tqdm(np.unique(orderedLabels)[1:]):\n",
    "\n",
    "    clusterPoints = orderedPoints[orderedLabels == i]\n",
    "    skeleton = LaplacianContractionSkeleton(clusterPoints, maxIterations=2)\n",
    "    skeleton.contractPointCloud()\n",
    "    contractedPoints += list(skeleton.contractedPoints)\n",
    "\n",
    "contractedPoints = np.array(contractedPoints)"
   ]
  },
  {
   "cell_type": "code",
   "execution_count": null,
   "id": "d6aa52f9-8f97-4aec-ad7e-f534a87ba5d7",
   "metadata": {},
   "outputs": [],
   "source": [
    "# Plot all clusters\n",
    "colors = plt.get_cmap(\"tab20c\")(labels / (np.max(labels) if np.max(labels) > 0 else 1))\n",
    "colors[labels < 0] = 0\n",
    "\n",
    "# Convert to an open3d point cloud\n",
    "pointCloud = o3d.geometry.PointCloud()\n",
    "pointCloud.points = o3d.utility.Vector3dVector(contractedPoints)\n",
    "pointCloud.colors = o3d.utility.Vector3dVector(colors[:,:3])\n",
    "\n",
    "o3d.visualization.draw_geometries([pointCloud])"
   ]
  },
  {
   "cell_type": "markdown",
   "id": "949d3a07-d44d-4870-9e42-e53508234e5f",
   "metadata": {},
   "source": [
    "## Perform contraction on each cluster including its neighbors"
   ]
  },
  {
   "cell_type": "code",
   "execution_count": null,
   "id": "cada1ac2-5120-4672-929f-1e97e878feb2",
   "metadata": {},
   "outputs": [],
   "source": [
    "%matplotlib inline\n",
    "# Perform contraction on each cluster individually\n",
    "contractedPoints = []\n",
    "for i in tqdm(np.unique(orderedLabels)[1:]):\n",
    "    # if i == -1:\n",
    "    #     continue\n",
    "        \n",
    "    # This will actually include the cluster itself, since every cluster\n",
    "    # is adjacent to itself\n",
    "    # Could add some threshold here such that the adjacency matrix\n",
    "    # value (sum of the laplacian matrix) has to be greater than a certain\n",
    "    # magnitude.\n",
    "    neighborClusterIndices = np.where(clusterAdjMat[i-1] != 0)[0]+1\n",
    "    neighborPointIndices = [o in neighborClusterIndices for o in orderedLabels]\n",
    "    neighborPoints = orderedPoints[neighborPointIndices]\n",
    "    \n",
    "    # Contract\n",
    "    skeleton = LaplacianContractionSkeleton(neighborPoints)\n",
    "    skeleton.contractPointCloud()\n",
    "    \n",
    "    # Now we have to only take the real points back out\n",
    "    # Note that this indexing is relative to the list neighborPoints,\n",
    "    # NOT the whole orderedPoints array.\n",
    "    clusterIndices = np.where(orderedLabels[neighborPointIndices] == i)[0]\n",
    "    contractedPoints += list(skeleton.contractedPoints[clusterIndices])\n",
    "\n",
    "    # print(len(clusterIndices))\n",
    "    # fig = plt.figure()\n",
    "    # ax = fig.add_subplot(projection='3d')\n",
    "\n",
    "    # ax.scatter(*neighborPoints.T, c='gray', alpha=0.5)\n",
    "    # ax.scatter(*neighborPoints[clusterIndices].T, c='tab:red')\n",
    "    # plt.show()\n",
    "contractedPoints = np.array(contractedPoints)"
   ]
  },
  {
   "cell_type": "code",
   "execution_count": null,
   "id": "a25703a7-1005-4f0f-8e6c-f99d9a175c0c",
   "metadata": {},
   "outputs": [],
   "source": [
    "contractedPoints.shape"
   ]
  },
  {
   "cell_type": "code",
   "execution_count": null,
   "id": "223a2bcd-7bb4-4cb9-b3e8-7eba2fe6f718",
   "metadata": {},
   "outputs": [],
   "source": [
    "# Plot all clusters\n",
    "colors = plt.get_cmap(\"tab20c\")(orderedLabels / (np.max(orderedLabels) if np.max(orderedLabels) > 0 else 1))\n",
    "colors[orderedLabels < 0] = 0\n",
    "\n",
    "# Convert to an open3d point cloud\n",
    "pointCloud = o3d.geometry.PointCloud()\n",
    "pointCloud.points = o3d.utility.Vector3dVector(points)\n",
    "pointCloud.paint_uniform_color([0,0,0])\n",
    "\n",
    "pointCloud2 = o3d.geometry.PointCloud()\n",
    "pointCloud2.points = o3d.utility.Vector3dVector(contractedPoints)\n",
    "pointCloud2.colors = o3d.utility.Vector3dVector(colors[:,:3])\n",
    "\n",
    "o3d.visualization.draw_geometries([pointCloud2])"
   ]
  },
  {
   "cell_type": "markdown",
   "id": "53115851-8e13-4f46-9f1a-bb046966d237",
   "metadata": {},
   "source": [
    "## Contract the entire point cloud at once"
   ]
  },
  {
   "cell_type": "code",
   "execution_count": null,
   "id": "957ae24f-0fbe-4b6f-9be7-883cdb6703f1",
   "metadata": {},
   "outputs": [],
   "source": [
    "sizeArr = [5, 10, 15, 20, 50]\n",
    "fig = plt.figure(figsize=(len(sizeArr)*3, 4))\n",
    "\n",
    "for i in range(len(sizeArr)):\n",
    "    \n",
    "    img = sk.utils.pointsToImage(points, np.repeat(sizeArr[i], 3))\n",
    "    \n",
    "    ax = fig.add_subplot(1, len(sizeArr), i+1, projection='3d')\n",
    "    ax.voxels(img)\n",
    "    ax.set_title(f'imageMaxDim: {sizeArr[i]}')\n",
    "    \n",
    "fig.tight_layout()\n",
    "plt.show()"
   ]
  },
  {
   "cell_type": "code",
   "execution_count": null,
   "id": "47297ddb-0958-4161-b1b0-aed2936fc419",
   "metadata": {},
   "outputs": [],
   "source": [
    "kernelArr = [1, 3, 5]\n",
    "imageMaxSize = 15\n",
    "fig = plt.figure(figsize=(len(kernelArr)*3, 4))\n",
    "\n",
    "for i in range(len(kernelArr)):\n",
    "    \n",
    "    img = sk.utils.pointsToImage(points, np.repeat(imageMaxSize, 3), kernelArr[i])\n",
    "    \n",
    "    ax = fig.add_subplot(1, len(kernelArr), i+1, projection='3d')\n",
    "    ax.voxels(img)\n",
    "    ax.set_title(f'kernelSize: {kernelArr[i]}')\n",
    "fig.tight_layout()\n",
    "plt.show()"
   ]
  },
  {
   "cell_type": "code",
   "execution_count": null,
   "id": "526e8818-b0ae-455c-8d17-63a27cd8bef7",
   "metadata": {},
   "outputs": [],
   "source": [
    "minPointsArr = [1, 2, 5]\n",
    "imageMaxSize = 15\n",
    "fig = plt.figure(figsize=(len(minPointsArr)*3, 4))\n",
    "\n",
    "for i in range(len(minPointsArr)):\n",
    "    \n",
    "    img = sk.utils.pointsToImage(points, np.repeat(imageMaxSize, 3), 1, minPointsArr[i])\n",
    "    \n",
    "    ax = fig.add_subplot(1, len(minPointsArr), i+1, projection='3d')\n",
    "    ax.voxels(img)\n",
    "    ax.set_title(f'minPointsPerPixel: {minPointsArr[i]}')\n",
    "    \n",
    "fig.tight_layout()\n",
    "plt.show()"
   ]
  },
  {
   "cell_type": "code",
   "execution_count": null,
   "id": "2f15405c-f953-4a89-8d4f-99d74775d9f2",
   "metadata": {},
   "outputs": [],
   "source": []
  },
  {
   "cell_type": "code",
   "execution_count": null,
   "id": "c5ceecbe-cd6c-45ff-a525-8a00cd2cb699",
   "metadata": {},
   "outputs": [],
   "source": [
    "skeleton = LaplacianContractionSkeleton(points)\n",
    "skeleton.generateSkeleton()\n",
    "skeleton.plot(backend='o3d', plotPoints=False, plotSkeleton=True)"
   ]
  },
  {
   "cell_type": "code",
   "execution_count": null,
   "id": "417530ba-6013-4f0a-ab15-d93461a0de88",
   "metadata": {},
   "outputs": [],
   "source": []
  }
 ],
 "metadata": {
  "kernelspec": {
   "display_name": "Python 3 (ipykernel)",
   "language": "python",
   "name": "python3"
  },
  "language_info": {
   "codemirror_mode": {
    "name": "ipython",
    "version": 3
   },
   "file_extension": ".py",
   "mimetype": "text/x-python",
   "name": "python",
   "nbconvert_exporter": "python",
   "pygments_lexer": "ipython3",
   "version": "3.11.3"
  }
 },
 "nbformat": 4,
 "nbformat_minor": 5
}
