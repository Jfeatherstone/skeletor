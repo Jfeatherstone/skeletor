{
 "cells": [
  {
   "cell_type": "code",
   "execution_count": null,
   "id": "aaa71687-03d6-4a16-b1b8-3c5abf1f63b5",
   "metadata": {},
   "outputs": [],
   "source": [
    "import numpy as np\n",
    "import matplotlib.pyplot as plt\n",
    "from matplotlib.colors import ListedColormap, Normalize\n",
    "from matplotlib.cm import ScalarMappable\n",
    "\n",
    "from tqdm import tqdm\n",
    "import os\n",
    "import sys\n",
    "sys.path.append('../')\n",
    "from PIL import Image\n",
    "import cv2\n",
    "import open3d as o3d\n",
    "\n",
    "from skeletor.skeleton import Octree\n",
    "from skeletor.data import loadTestDataset, loadPointCloud, plotTestDatasets, TEST_DATASETS_2D, TEST_DATASETS_3D, printTestDatasets\n",
    "\n",
    "import robust_laplacian\n",
    "\n",
    "from scipy.signal import convolve\n",
    "from scipy.spatial import KDTree\n",
    "from scipy.spatial.transform import Rotation\n",
    "\n",
    "import scipy.sparse as sparse\n",
    "import scipy.sparse.linalg as sla\n",
    "\n",
    "from pepe.topology import spatialClusterLabels"
   ]
  },
  {
   "cell_type": "code",
   "execution_count": null,
   "id": "0becb0f5-415b-4b3d-9584-0485261c06df",
   "metadata": {},
   "outputs": [],
   "source": [
    "def removeDenseClusters(points, radius=5, removeFraction=2.):\n",
    "    \"\"\"\n",
    "    \"\"\"\n",
    "    kdTree = KDTree(points)\n",
    "    # Compute average NN distance\n",
    "    nnDistances, nnIndices = kdTree.query(points, 2)\n",
    "    avgNNDistance = np.mean(nnDistances[:,1])\n",
    "    \n",
    "    neighborsArr = kdTree.query_ball_tree(kdTree, avgNNDistance*radius)\n",
    "    numNeighborsArr = np.array([len(a) for a in neighborsArr])\n",
    "\n",
    "    return points[numNeighborsArr < np.median(numNeighborsArr)*removeFraction]"
   ]
  },
  {
   "cell_type": "code",
   "execution_count": null,
   "id": "48d17908-7a2f-4810-a4ef-54b3bae2c115",
   "metadata": {},
   "outputs": [],
   "source": [
    "skeletonPoints = loadPointCloud('../medial_axis_2024-10-09_LG_A_PNG_T4.0_clean.npy', downsample=1)\n",
    "\n",
    "cleanedPoints = removeDenseClusters(skeletonPoints, removeFraction=4)\n",
    "\n",
    "print(len(cleanedPoints))"
   ]
  },
  {
   "cell_type": "code",
   "execution_count": null,
   "id": "23531be6-195d-46dc-be8f-ba6a99eb475d",
   "metadata": {},
   "outputs": [],
   "source": [
    "pcd = o3d.geometry.PointCloud()\n",
    "pcd.points = o3d.utility.Vector3dVector(skeletonPoints)\n",
    "pcd.paint_uniform_color((0, 0, 0))\n",
    "\n",
    "pcd2 = o3d.geometry.PointCloud()\n",
    "pcd2.points = o3d.utility.Vector3dVector(cleanedPoints)\n",
    "pcd2.paint_uniform_color((1, 0, 0))\n",
    "\n",
    "o3d.visualization.draw_geometries([pcd, pcd2])"
   ]
  },
  {
   "cell_type": "code",
   "execution_count": null,
   "id": "55f66ac4-402d-4f12-9b23-4329f68334be",
   "metadata": {},
   "outputs": [],
   "source": [
    "def contractPoints(points, referencePoints=None, pointMasses=None, attraction=1.0, contraction=0.5):\n",
    "    \"\"\"\n",
    "    Perform Laplacian contraction on a set of points, potentially in relation to\n",
    "    a reference set of points (points that should attract other points but not\n",
    "    move themselves).\n",
    "    \"\"\"\n",
    "    dim = np.shape(points)[-1]\n",
    "\n",
    "    if hasattr(referencePoints, '__iter__'):\n",
    "        allPoints = np.concatenate((points, referencePoints))\n",
    "        \n",
    "        # Compute the laplacian and mass matrix\n",
    "        L, M = robust_laplacian.point_cloud_laplacian(allPoints)\n",
    "\n",
    "        # We should only have positive attraction towards reference\n",
    "        # points, and we should have slight negative attraction towards\n",
    "        # regular points (to avoid clumping)\n",
    "        if hasattr(pointMasses, '__iter__'):\n",
    "            pointRepulsion = attraction * pointMasses\n",
    "        else:\n",
    "            pointRepulsion = attraction * np.ones(len(points))\n",
    "            \n",
    "        # Multiply the attraction of the reference points by a very large number so\n",
    "        # they don't move from their original positions much\n",
    "        referencePointAttraction = attraction * np.ones(len(referencePoints))*1e6\n",
    "        pointContraction = contraction * 1e3 * np.sqrt(np.mean(M.diagonal())) * np.ones(len(points))\n",
    "        referencePointContraction = contraction * 1e3 * np.sqrt(np.mean(M.diagonal())) * np.ones(len(referencePoints))\n",
    "\n",
    "        # Define weight matrices\n",
    "        WH = sparse.diags(np.concatenate((pointRepulsion, referencePointAttraction)))\n",
    "        WL = sparse.diags(np.concatenate((pointContraction, referencePointContraction)))  # I * laplacian_weighting\n",
    "\n",
    "    else:\n",
    "        allPoints = points\n",
    "        \n",
    "        # Compute the laplacian and mass matrix\n",
    "        L, M = robust_laplacian.point_cloud_laplacian(allPoints)\n",
    "        \n",
    "        attractionWeights = attraction * np.ones(M.shape[0])\n",
    "        # This is weighted by the sqrt of the mean of the mass matrix, not really sure why, but :/\n",
    "        contractionWeights = contraction * 1e3 * np.sqrt(np.mean(M.diagonal())) * np.ones(M.shape[0])\n",
    "\n",
    "        # Define weight matrices\n",
    "        WH = sparse.diags(attractionWeights)\n",
    "        WL = sparse.diags(contractionWeights)  # I * laplacian_weighting\n",
    "\n",
    "    A = sparse.vstack([L.dot(WL), WH]).tocsc()\n",
    "    b = np.vstack([np.zeros((allPoints.shape[0], 3)), WH.dot(allPoints)])\n",
    "\n",
    "    A_new = A.T @ A\n",
    "\n",
    "    # Solve each dimension separately\n",
    "    solvedAxes = [sla.spsolve(A_new, A.T @ b[:,i], permc_spec='COLAMD') for i in range(dim)]\n",
    "    # If we are in 2D, just add back in the previous z dimension (no need to solve it since\n",
    "    # we will throw it away eventually)\n",
    "    if dim == 2:\n",
    "        solvedAxes += [list(points[:,2])]\n",
    "    ret = np.vstack(solvedAxes).T\n",
    "\n",
    "    if (np.isnan(ret)).all():\n",
    "        #logging.warn('Matrix is exactly singular. Stopping Contraction.')\n",
    "        ret = points\n",
    "\n",
    "    return ret[:len(points)]"
   ]
  },
  {
   "cell_type": "code",
   "execution_count": null,
   "id": "1478436c-faee-4f49-b252-4e4e6bc72da1",
   "metadata": {},
   "outputs": [],
   "source": [
    "allPoints = np.copy(cleanedPoints)\n",
    "originalPoints = contractPoints(cleanedPoints, attraction=5000, contraction=1)\n",
    "adjustedSkeletonPoints = np.copy(cleanedPoints)\n",
    "\n",
    "for _ in range(10):\n",
    "    adjustedSkeletonPoints = contractPoints(adjustedSkeletonPoints, attraction=1000, contraction=1)\n",
    "    allPoints = np.concatenate((allPoints, adjustedSkeletonPoints))"
   ]
  },
  {
   "cell_type": "code",
   "execution_count": null,
   "id": "e2a6c551-e2c0-4306-8c90-c64731f037e5",
   "metadata": {},
   "outputs": [],
   "source": [
    "referencePoints = loadPointCloud('/home/jack/Workspaces/data/point_clouds/2024-10-21_LG_A_PNG_T4.0.npy', downsample=50)\n",
    "\n",
    "adjustedSkeletonPoints = contractPoints(cleanedPoints, referencePoints, attraction=50, contraction=0.5)"
   ]
  },
  {
   "cell_type": "code",
   "execution_count": null,
   "id": "28ce8163-15ef-4c75-9394-a02695953f8d",
   "metadata": {},
   "outputs": [],
   "source": [
    "pcd = o3d.geometry.PointCloud()\n",
    "pcd.points = o3d.utility.Vector3dVector(cleanedPoints)\n",
    "pcd.paint_uniform_color((0, 0, 0))\n",
    "\n",
    "pcd2 = o3d.geometry.PointCloud()\n",
    "pcd2.points = o3d.utility.Vector3dVector(adjustedSkeletonPoints)\n",
    "pcd2.paint_uniform_color((1, 0, 0))\n",
    "\n",
    "o3d.visualization.draw_geometries([pcd, pcd2])"
   ]
  },
  {
   "cell_type": "code",
   "execution_count": null,
   "id": "fd54caed-60cc-4eed-b5f6-5ffc110d07a3",
   "metadata": {},
   "outputs": [],
   "source": [
    "o3d.visualization.draw_geometries([pcd])"
   ]
  },
  {
   "cell_type": "code",
   "execution_count": null,
   "id": "d3ac5668-9499-4d9c-b0c1-9624cc076611",
   "metadata": {},
   "outputs": [],
   "source": [
    "sys.path.append('../../skeletor')\n",
    "from skeletor.skeleton import OctreeContractionSkeleton\n",
    "\n",
    "skeleton = OctreeContractionSkeleton(cleanedPoints, 1000, verbose=True)\n",
    "contractedPoints = skeleton.contractPointCloud(iterations=10, attraction=500, contraction=1)\n",
    "print(len(contractedPoints))"
   ]
  },
  {
   "cell_type": "code",
   "execution_count": null,
   "id": "edf26b5e-8f27-48f0-b89b-212a27e84163",
   "metadata": {},
   "outputs": [],
   "source": [
    "pcd = o3d.geometry.PointCloud()\n",
    "pcd.points = o3d.utility.Vector3dVector(cleanedPoints)\n",
    "pcd.paint_uniform_color((0, 0, 0))\n",
    "\n",
    "pcd2 = o3d.geometry.PointCloud()\n",
    "pcd2.points = o3d.utility.Vector3dVector(contractedPoints)\n",
    "pcd2.paint_uniform_color((1, 0, 0))\n",
    "\n",
    "o3d.visualization.draw_geometries([pcd, pcd2])"
   ]
  },
  {
   "cell_type": "code",
   "execution_count": null,
   "id": "c00b9803-ea4a-43ef-a836-32a4f40f8e17",
   "metadata": {},
   "outputs": [],
   "source": []
  }
 ],
 "metadata": {
  "kernelspec": {
   "display_name": "Python 3 (ipykernel)",
   "language": "python",
   "name": "python3"
  },
  "language_info": {
   "codemirror_mode": {
    "name": "ipython",
    "version": 3
   },
   "file_extension": ".py",
   "mimetype": "text/x-python",
   "name": "python",
   "nbconvert_exporter": "python",
   "pygments_lexer": "ipython3",
   "version": "3.11.9"
  }
 },
 "nbformat": 4,
 "nbformat_minor": 5
}
