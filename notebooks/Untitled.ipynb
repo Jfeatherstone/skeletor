{
 "cells": [
  {
   "cell_type": "code",
   "execution_count": null,
   "id": "3a8b2b61-b1d0-4113-881d-37e4ee534371",
   "metadata": {},
   "outputs": [],
   "source": [
    "import numpy as np\n",
    "import matplotlib.pyplot as plt\n",
    "\n",
    "import sys\n",
    "sys.path.append('..')\n",
    "\n",
    "from skeletor import data"
   ]
  },
  {
   "cell_type": "code",
   "execution_count": null,
   "id": "3576285f-74ba-4647-a503-dc5cba56b2b2",
   "metadata": {},
   "outputs": [],
   "source": [
    "for d in data.TEST_DATASETS_2D.keys():\n",
    "    fig, ax = plt.subplots(figsize=(4,4))\n",
    "    \n",
    "    ax.scatter(*data.loadTestDataset(d).T, s=1)\n",
    "    plt.savefig(f'../images/data_previews/{d}.png')\n",
    "    plt.show()\n",
    "\n",
    "for d in data.TEST_DATASETS_3D.keys():\n",
    "    fig = plt.figure(figsize=(4,4))\n",
    "    ax = fig.add_subplot(projection='3d')\n",
    "    \n",
    "    ax.scatter(*data.loadTestDataset(d).T, s=1)\n",
    "    plt.savefig(f'../images/data_previews/{d}.png')\n",
    "    plt.show()"
   ]
  },
  {
   "cell_type": "code",
   "execution_count": null,
   "id": "6d2ba7e3-1fb3-4b9f-9e47-5afac958347d",
   "metadata": {},
   "outputs": [],
   "source": [
    "data.plotTestDatasets()"
   ]
  },
  {
   "cell_type": "code",
   "execution_count": null,
   "id": "7e320b4c-1712-44f1-bbf9-3e1ac66943d0",
   "metadata": {},
   "outputs": [],
   "source": [
    "np.zeros((5000, 7000, 1000), dtype=np.uint8)"
   ]
  },
  {
   "cell_type": "code",
   "execution_count": null,
   "id": "b95e6865-6c32-468c-92cf-e67d96e9db1b",
   "metadata": {},
   "outputs": [],
   "source": []
  }
 ],
 "metadata": {
  "kernelspec": {
   "display_name": "Python 3 (ipykernel)",
   "language": "python",
   "name": "python3"
  },
  "language_info": {
   "codemirror_mode": {
    "name": "ipython",
    "version": 3
   },
   "file_extension": ".py",
   "mimetype": "text/x-python",
   "name": "python",
   "nbconvert_exporter": "python",
   "pygments_lexer": "ipython3",
   "version": "3.11.9"
  }
 },
 "nbformat": 4,
 "nbformat_minor": 5
}
