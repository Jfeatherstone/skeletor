{
 "cells": [
  {
   "cell_type": "code",
   "execution_count": 2,
   "id": "793fbd75-ff2f-47a0-a81e-4ca361dbcd8d",
   "metadata": {},
   "outputs": [],
   "source": [
    "import numpy as np\n",
    "import matplotlib.pyplot as plt\n",
    "\n",
    "import cv2\n",
    "from PIL import Image\n",
    "\n",
    "import os\n",
    "\n",
    "from tqdm import tqdm\n",
    "from pepe.preprocess import checkImageType"
   ]
  },
  {
   "cell_type": "code",
   "execution_count": 11,
   "id": "e170b325-8619-4259-bb2e-9e23eafcc16c",
   "metadata": {},
   "outputs": [],
   "source": [
    "def generateMovie(images, outputFile='output.mp4', fps=30, progressBar=False):\n",
    "    \"\"\"\n",
    "    \"\"\"\n",
    "    h, w = checkImageType(images[0]).shape\n",
    "    \n",
    "    fourcc = cv2.VideoWriter_fourcc(*'mp4v')\n",
    "    video = cv2.VideoWriter(outputFile, fourcc, fps, (w, h))\n",
    "    \n",
    "    for image in tqdm(images) if progressBar else images:\n",
    "        video.write(cv2.cvtColor(checkImageType(image), cv2.COLOR_RGB2BGR))\n",
    "    \n",
    "    video.release()"
   ]
  },
  {
   "cell_type": "code",
   "execution_count": 14,
   "id": "13ea0b20-d261-454d-83f6-c06da588a305",
   "metadata": {},
   "outputs": [
    {
     "name": "stderr",
     "output_type": "stream",
     "text": [
      "100%|█████████████████████████████| 1115/1115 [09:56<00:00,  1.87it/s]\n"
     ]
    }
   ],
   "source": [
    "dataFolder = '/home/jack/Workspaces/data/scans/2024-06-10_LG_A_TIF/'\n",
    "imageExtension = 'tif'\n",
    "images = np.sort([f'{dataFolder}{f}' for f in os.listdir(dataFolder) if f[-3:].lower() == imageExtension.lower()])\n",
    "\n",
    "generateMovie(images, progressBar=True)"
   ]
  },
  {
   "cell_type": "code",
   "execution_count": null,
   "id": "51129a45-2fee-4784-8544-9acf51c58518",
   "metadata": {},
   "outputs": [],
   "source": [
    "    images = []\n",
    "    \n",
    "    for i in tqdm(range(360)):\n",
    "        fig = plt.figure(figsize=(7,7))\n",
    "        ax = fig.add_subplot(projection='3d')\n",
    "        \n",
    "        ax.scatter(*newPoints.T, s=.3, alpha=.08, c='tab:orange')\n",
    "        ax.scatter(*postPoints.T, s=10, alpha=1, c='black')\n",
    "        \n",
    "        #ax.set_aspect('equal')\n",
    "        ax.set_title(f\"{data.split('/')[-1].split('.')[0]} Skeleton\")\n",
    "        \n",
    "        ax.view_init(20, i)\n",
    "        canvas = plt.get_current_fig_manager().canvas\n",
    "        canvas.draw()\n",
    "    \n",
    "        images.append(Image.frombytes('RGB', canvas.get_width_height(), canvas.tostring_rgb()))\n",
    "    \n",
    "        plt.close()\n",
    "    "
   ]
  },
  {
   "cell_type": "code",
   "execution_count": 103,
   "id": "8373e631-83b8-4f23-9e44-a12f48463214",
   "metadata": {},
   "outputs": [
    {
     "data": {
      "image/png": "[encoded data removed]",
      "text/plain": [
       "<Figure size 1500x300 with 1 Axes>"
      ]
     },
     "metadata": {},
     "output_type": "display_data"
    }
   ],
   "source": [
    "import matplotlib.ticker\n",
    "\n",
    "plt.rcParams[\"font.size\"] = 20\n",
    "\n",
    "xArr = np.logspace(-6, 6, 100)\n",
    "fig, ax = plt.subplots(1, 1, figsize=(15,3))\n",
    "\n",
    "ax.semilogx(xArr, np.repeat(1, 100))\n",
    "ax.set_xticks([1e-6, 1e-3, 1, 1e3, 1e6], ['$\\mu$m', 'mm', 'm', 'km', ''], fontsize=15)\n",
    "ax.set_xlabel('Length Scale')\n",
    "\n",
    "nticks = 20\n",
    "maj_loc = matplotlib.ticker.LogLocator(numticks=nticks)\n",
    "min_loc = matplotlib.ticker.LogLocator(subs=(1, 2, 3, 4, 5, 6, 7, 8, 9, 10), numticks=nticks)\n",
    "ax.xaxis.set_major_locator(maj_loc)\n",
    "ax.xaxis.set_minor_locator(min_loc)\n",
    "\n",
    "ax.get_xaxis().set_tick_params(which='major', size=7.5)\n",
    "ax.get_xaxis().set_tick_params(which='major', width=1.75) \n",
    "\n",
    "ax.get_xaxis().set_tick_params(which='minor', size=4)\n",
    "ax.get_xaxis().set_tick_params(which='minor', width=1) \n",
    "\n",
    "plt.savefig('log_x_axis_meters.svg')\n",
    "plt.show()"
   ]
  },
  {
   "cell_type": "code",
   "execution_count": null,
   "id": "61cec00d-ebe1-4752-9536-7b1dcf4d9532",
   "metadata": {},
   "outputs": [],
   "source": []
  }
 ],
 "metadata": {
  "kernelspec": {
   "display_name": "Python 3 (ipykernel)",
   "language": "python",
   "name": "python3"
  },
  "language_info": {
   "codemirror_mode": {
    "name": "ipython",
    "version": 3
   },
   "file_extension": ".py",
   "mimetype": "text/x-python",
   "name": "python",
   "nbconvert_exporter": "python",
   "pygments_lexer": "ipython3",
   "version": "3.11.9"
  }
 },
 "nbformat": 4,
 "nbformat_minor": 5
}
