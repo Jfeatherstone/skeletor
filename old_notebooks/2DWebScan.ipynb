{
 "cells": [
  {
   "cell_type": "code",
   "execution_count": null,
   "id": "5b3a3fbb-dc57-4ab9-99a0-2fc24a45bb7b",
   "metadata": {},
   "outputs": [],
   "source": [
    "import numpy as np\n",
    "import matplotlib.pyplot as plt\n",
    "\n",
    "import sys\n",
    "sys.path.append('../')\n",
    "\n",
    "import skeletor as sk\n",
    "\n",
    "import tqdm\n",
    "\n",
    "import networkx as nx\n",
    "\n",
    "from anytree import Node, RenderTree\n",
    "\n",
    "from pc_skeletor import LBC, SLBC\n",
    "\n",
    "import open3d"
   ]
  },
  {
   "cell_type": "code",
   "execution_count": null,
   "id": "f8511200-9fe1-418a-a21e-09a2e61e3138",
   "metadata": {},
   "outputs": [],
   "source": [
    "data = '../Data/2d_web_scan.npy'\n",
    "dsFactor = 1\n",
    "neighborDistance = 25\n",
    "np.random.seed(10)\n",
    "\n",
    "#%matplotlib qt\n",
    "with open(data, 'rb') as f:\n",
    "    rawData = np.load(f)\n",
    "    \n",
    "order = np.arange(rawData.shape[0])\n",
    "np.random.shuffle(order)\n",
    "points = rawData[order][::dsFactor,:]\n",
    "\n",
    "#plt.scatter(scatterPoints[:,0], scatterPoints[:,2], s=.2)\n",
    "#plt.show()\n",
    "\n",
    "fig = plt.figure()\n",
    "ax = fig.add_subplot(projection='3d')\n",
    "\n",
    "ax.scatter(points[:,0], points[:,1], points[:,2], s=1)\n",
    "fig.set_size_inches((6,6))\n",
    "fig.tight_layout()\n",
    "#plt.savefig('2d_web_point_cloud.png')\n",
    "plt.show()"
   ]
  },
  {
   "cell_type": "code",
   "execution_count": null,
   "id": "08838ab1-8435-40e8-b388-bdfa295eb7c6",
   "metadata": {},
   "outputs": [],
   "source": [
    "cgField = sk.courseGrainField(points, kernelSize=2)\n",
    "\n",
    "neighborScatterPoints = np.array(np.where(cgField > .5)).T\n",
    "\n",
    "fig = plt.figure()\n",
    "ax = fig.add_subplot(projection='3d')\n",
    "\n",
    "ax.scatter(*neighborScatterPoints.T, s=.2, alpha=.5, c=cgField[np.where(cgField > .5)])\n",
    "plt.show()"
   ]
  },
  {
   "cell_type": "code",
   "execution_count": null,
   "id": "a5e699d8-7f26-48d0-af3e-a4e5d15b245d",
   "metadata": {
    "jupyter": {
     "outputs_hidden": true
    },
    "tags": []
   },
   "outputs": [],
   "source": [
    "t = 64\n",
    "octree = sk.skeltre.Octree(points, 20000, 1/t)"
   ]
  },
  {
   "cell_type": "code",
   "execution_count": null,
   "id": "25aa5b24-40b3-4903-9d6d-dc313c40c7d0",
   "metadata": {},
   "outputs": [],
   "source": [
    "fig = octree.plot()\n",
    "fig.set_size_inches((10,10))\n",
    "plt.show()"
   ]
  },
  {
   "cell_type": "code",
   "execution_count": null,
   "id": "1d2594c0-beaa-43a8-ab8b-b55d896a3fe9",
   "metadata": {},
   "outputs": [],
   "source": [
    "plt.hist(octree.vDimArr.flatten())\n",
    "plt.show()"
   ]
  },
  {
   "cell_type": "code",
   "execution_count": null,
   "id": "6b49c918-4608-48f9-ae7e-b569a7c5f8c2",
   "metadata": {},
   "outputs": [],
   "source": [
    "%matplotlib inline\n",
    "\n",
    "for t in [8, 16, 24, 32, 64, 128]:\n",
    "    octree = sk.ask.Octree(points, 20000, 1/t)\n",
    "\n",
    "    fig = octree.plotSkeleton(plotBoxes=False)\n",
    "    fig.set_size_inches((8,8))\n",
    "\n",
    "    fig.suptitle(f't = {t}')\n",
    "    fig.tight_layout()\n",
    "    plt.savefig(f'ask_t{t}.png', bbox_inches='tight')\n",
    "    plt.show()"
   ]
  },
  {
   "cell_type": "code",
   "execution_count": null,
   "id": "77be2646-53ea-4704-81c1-030e0e9e398b",
   "metadata": {},
   "outputs": [],
   "source": [
    "%matplotlib inline\n",
    "centroids = octree.getCentroids()\n",
    "adjMat = octree.getAdjMat()\n",
    "\n",
    "fig = plt.figure(figsize=(10, 15))\n",
    "ax1 = fig.add_subplot(1, 2, 1, projection='3d')\n",
    "\n",
    "ax1.scatter(points[:,0], points[:,1], points[:,2], s=5, alpha=.1)\n",
    "\n",
    "ax2 = fig.add_subplot(1, 2, 2, projection='3d')\n",
    "\n",
    "ax2.scatter(centroids[:,0], centroids[:,1], centroids[:,2], s=1)\n",
    "\n",
    "for i in range(len(adjMat)):\n",
    "    edgeIndices = np.where(adjMat[i] > 0)[0]\n",
    "    for j in range(len(edgeIndices)):\n",
    "        ax2.plot(*list(zip(centroids[i], centroids[edgeIndices[j]])))\n",
    "\n",
    "fig.tight_layout()\n",
    "#plt.savefig('cube_discrete_skeleton.png')\n",
    "plt.show()"
   ]
  },
  {
   "cell_type": "code",
   "execution_count": null,
   "id": "6eeae87d-dc1f-417d-a07f-8e72735b84e7",
   "metadata": {},
   "outputs": [],
   "source": [
    "dominantDirections = []\n",
    "adjMat = octree.getAdjMat()\n",
    "centroids = octree.getCentroids()\n",
    "\n",
    "for i in tqdm.tqdm(range(len(centroids))):\n",
    "    hist, thetaBins, phiBins = sk.angularHistogramAroundPoint(centroids, i, adjMat, smoothing=21)\n",
    "    peakDirections = sk.findDominantHistogramDirections(hist, thetaBins, phiBins, normalize=True)\n",
    "\n",
    "    dominantDirections.append(peakDirections)"
   ]
  },
  {
   "cell_type": "code",
   "execution_count": null,
   "id": "3d8bc291-2c5e-41d0-8c55-13ad36082619",
   "metadata": {},
   "outputs": [],
   "source": [
    "fig = plt.figure(figsize=(10, 15))\n",
    "ax = fig.add_subplot(projection='3d')\n",
    "\n",
    "for i in range(len(centroids)):\n",
    "    for j in range(len(dominantDirections[i])):\n",
    "        linePoints = np.array([centroids[i], centroids[i] - .1*dominantDirections[i][j]])\n",
    "        ax.plot(linePoints[:,0], linePoints[:,1], linePoints[:,2], linewidth=3, c='tab:blue')\n",
    "\n",
    "plt.show()"
   ]
  },
  {
   "cell_type": "code",
   "execution_count": null,
   "id": "e4f2b974-7c42-41b4-a8cf-9686bb8348ad",
   "metadata": {},
   "outputs": [],
   "source": [
    "pointCloud = open3d.geometry.PointCloud()\n",
    "pointCloud.points = open3d.utility.Vector3dVector(points)"
   ]
  },
  {
   "cell_type": "code",
   "execution_count": null,
   "id": "3dfce482-a585-4869-aca2-a5f5acdc3b3a",
   "metadata": {
    "tags": []
   },
   "outputs": [],
   "source": [
    "lbc = LBC(point_cloud=pointCloud)\n",
    "skeleton = lbc.extract_skeleton()\n",
    "topology = lbc.extract_topology()\n",
    "lbc.visualize()\n",
    "lbc.show_graph(lbc.skeleton_graph)\n",
    "lbc.show_graph(lbc.topology_graph)\n",
    "# lbc.save('./lbc_2d_web_scan')\n",
    "# lbc.animate(init_rot=np.asarray([[1, 0, 0], [0, 0, 1], [0, 1, 0]]),\n",
    "#             steps=300,\n",
    "#             output='./lbc_2d_web_scan')"
   ]
  },
  {
   "cell_type": "code",
   "execution_count": null,
   "id": "9dfdb452-03da-46f4-8928-4df0850c96ab",
   "metadata": {},
   "outputs": [],
   "source": [
    "lbc.animate(\n",
    "            steps=300,\n",
    "            output='./lbc_2d_web_scan')"
   ]
  },
  {
   "cell_type": "code",
   "execution_count": null,
   "id": "f16bf7ac-2758-4351-960d-90a8a00a2a67",
   "metadata": {},
   "outputs": [],
   "source": []
  }
 ],
 "metadata": {
  "kernelspec": {
   "display_name": "Python 3 (ipykernel)",
   "language": "python",
   "name": "python3"
  },
  "language_info": {
   "codemirror_mode": {
    "name": "ipython",
    "version": 3
   },
   "file_extension": ".py",
   "mimetype": "text/x-python",
   "name": "python",
   "nbconvert_exporter": "python",
   "pygments_lexer": "ipython3",
   "version": "3.7.13"
  }
 },
 "nbformat": 4,
 "nbformat_minor": 5
}
