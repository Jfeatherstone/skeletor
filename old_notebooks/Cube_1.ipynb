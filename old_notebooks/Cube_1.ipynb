{
 "cells": [
  {
   "cell_type": "code",
   "execution_count": null,
   "id": "5b3a3fbb-dc57-4ab9-99a0-2fc24a45bb7b",
   "metadata": {},
   "outputs": [],
   "source": [
    "import numpy as np\n",
    "import matplotlib.pyplot as plt\n",
    "\n",
    "import sys\n",
    "sys.path.append('../')\n",
    "\n",
    "import skeletor as sk\n",
    "\n",
    "import tqdm\n",
    "\n",
    "import networkx as nx\n",
    "\n",
    "from anytree import Node, RenderTree"
   ]
  },
  {
   "cell_type": "code",
   "execution_count": null,
   "id": "f8511200-9fe1-418a-a21e-09a2e61e3138",
   "metadata": {},
   "outputs": [],
   "source": [
    "data = '../Data/cube.npy'\n",
    "dsFactor = 1\n",
    "neighborDistance = 25\n",
    "np.random.seed(10)\n",
    "\n",
    "#%matplotlib qt\n",
    "with open(data, 'rb') as f:\n",
    "    rawData = np.load(f)\n",
    "    \n",
    "order = np.arange(rawData.shape[0])\n",
    "np.random.shuffle(order)\n",
    "points = rawData[order][::dsFactor,:]\n",
    "\n",
    "#plt.scatter(scatterPoints[:,0], scatterPoints[:,2], s=.2)\n",
    "#plt.show()\n",
    "\n",
    "fig = plt.figure()\n",
    "ax = fig.add_subplot(projection='3d')\n",
    "\n",
    "ax.scatter(points[:,0], points[:,1], points[:,2], s=1)\n",
    "plt.show()"
   ]
  },
  {
   "cell_type": "code",
   "execution_count": null,
   "id": "a5e699d8-7f26-48d0-af3e-a4e5d15b245d",
   "metadata": {},
   "outputs": [],
   "source": [
    "octree = sk.Octree(points, 1000, 1/128, True, neighborMethod='discrete')"
   ]
  },
  {
   "cell_type": "code",
   "execution_count": null,
   "id": "25aa5b24-40b3-4903-9d6d-dc313c40c7d0",
   "metadata": {},
   "outputs": [],
   "source": [
    "fig = octree.plot()\n",
    "fig.set_size_inches((9,9))\n",
    "plt.show()"
   ]
  },
  {
   "cell_type": "code",
   "execution_count": null,
   "id": "1d2594c0-beaa-43a8-ab8b-b55d896a3fe9",
   "metadata": {},
   "outputs": [],
   "source": [
    "plt.hist(octree.vDimArr.flatten())\n",
    "plt.show()"
   ]
  },
  {
   "cell_type": "code",
   "execution_count": null,
   "id": "77be2646-53ea-4704-81c1-030e0e9e398b",
   "metadata": {},
   "outputs": [],
   "source": [
    "%matplotlib inline\n",
    "centroids = octree.getCentroids()\n",
    "adjMat = octree.getAdjMat()\n",
    "\n",
    "fig = plt.figure(figsize=(10, 15))\n",
    "ax1 = fig.add_subplot(1, 2, 1, projection='3d')\n",
    "\n",
    "ax1.scatter(points[:,0], points[:,1], points[:,2], s=5, alpha=.1)\n",
    "\n",
    "ax2 = fig.add_subplot(1, 2, 2, projection='3d')\n",
    "\n",
    "ax2.scatter(centroids[:,0], centroids[:,1], centroids[:,2], s=1)\n",
    "\n",
    "for i in range(len(adjMat)):\n",
    "    edgeIndices = np.where(adjMat[i] > 0)[0]\n",
    "    for j in range(len(edgeIndices)):\n",
    "        ax2.plot(*list(zip(centroids[i], centroids[edgeIndices[j]])))\n",
    "\n",
    "fig.tight_layout()\n",
    "#plt.savefig('cube_discrete_skeleton.png')\n",
    "plt.show()"
   ]
  },
  {
   "cell_type": "code",
   "execution_count": null,
   "id": "6eeae87d-dc1f-417d-a07f-8e72735b84e7",
   "metadata": {},
   "outputs": [],
   "source": [
    "dominantDirections = []\n",
    "adjMat = octree.getAdjMat()\n",
    "centroids = octree.getCentroids()\n",
    "\n",
    "for i in tqdm.tqdm(range(len(centroids))):\n",
    "    hist, thetaBins, phiBins = sk.angularHistogramAroundPoint(centroids, i, adjMat, smoothing=21)\n",
    "    peakDirections = sk.findDominantHistogramDirections(hist, thetaBins, phiBins, normalize=True)\n",
    "\n",
    "    dominantDirections.append(peakDirections)"
   ]
  },
  {
   "cell_type": "code",
   "execution_count": null,
   "id": "3d8bc291-2c5e-41d0-8c55-13ad36082619",
   "metadata": {},
   "outputs": [],
   "source": [
    "fig = plt.figure(figsize=(10, 15))\n",
    "ax = fig.add_subplot(projection='3d')\n",
    "\n",
    "for i in range(len(centroids)):\n",
    "    for j in range(len(dominantDirections[i])):\n",
    "        linePoints = np.array([centroids[i], centroids[i] - .1*dominantDirections[i][j]])\n",
    "        ax.plot(linePoints[:,0], linePoints[:,1], linePoints[:,2], linewidth=3, c='tab:blue')\n",
    "\n",
    "plt.show()"
   ]
  },
  {
   "cell_type": "code",
   "execution_count": null,
   "id": "f8ec1ccc-94ea-4cb1-914c-4bfbc80fc58d",
   "metadata": {},
   "outputs": [],
   "source": [
    "%matplotlib inline\n",
    "\n",
    "skelPoints, skelAdjMat = octree.skeletonize(threshold=-.7, closed=False, mergeThreshold=1, secondRoundNeighborDetection=True, allowMergePoints=True)\n",
    "\n",
    "centroids = octree.getCentroids()\n",
    "adjMat = octree.getAdjMat()\n",
    "\n",
    "fig = plt.figure(figsize=(15, 10))\n",
    "ax1 = fig.add_subplot(1, 3, 1, projection='3d')\n",
    "\n",
    "ax1.scatter(points[:,0], points[:,1], points[:,2], s=5, alpha=.1)\n",
    "\n",
    "ax2 = fig.add_subplot(1, 3, 2, projection='3d')\n",
    "\n",
    "ax2.scatter(centroids[:,0], centroids[:,1], centroids[:,2], s=1)\n",
    "\n",
    "for i in range(len(adjMat)):\n",
    "    edgeIndices = np.where(adjMat[i] > 0)[0]\n",
    "    for j in range(len(edgeIndices)):\n",
    "        ax2.plot(*list(zip(centroids[i], centroids[edgeIndices[j]])))\n",
    "\n",
    "ax3 = fig.add_subplot(1, 3, 3, projection='3d')\n",
    "\n",
    "ax3.scatter(skelPoints[:,0], skelPoints[:,1], skelPoints[:,2], s=2, alpha=1)\n",
    "for i in range(len(skelAdjMat)):\n",
    "    edgeIndices = np.where(skelAdjMat[i] > 0)[0]\n",
    "    for j in range(len(edgeIndices)):\n",
    "        ax3.plot(*list(zip(skelPoints[i], skelPoints[edgeIndices[j]])))\n",
    "\n",
    "ax1.set_title('Point Cloud')\n",
    "ax2.set_title('Reduced Representation')\n",
    "ax3.set_title('Skeleton')\n",
    "        \n",
    "fig.tight_layout()\n",
    "#plt.savefig('cube_skeletonization.png', bbox_inches='tight')\n",
    "plt.show()"
   ]
  },
  {
   "cell_type": "code",
   "execution_count": null,
   "id": "58128af2-e7bb-427b-bfb1-8e71cdf151b7",
   "metadata": {},
   "outputs": [],
   "source": [
    "%matplotlib inline\n",
    "\n",
    "fig = plt.figure(figsize=(10, 20))\n",
    "nBoxesArr = [100, 500, 1000, 2000, 5000]\n",
    "\n",
    "for k in tqdm.tqdm(range(len(nBoxesArr))):\n",
    "\n",
    "    octree = sk.Octree(points, nBoxesArr[k], 1/128, neighborMethod='discrete')\n",
    "    \n",
    "    skelPoints, skelAdjMat = octree.skeletonize(threshold=-.7, closed=True, mergeThreshold=1, secondRoundNeighborDetection=True, allowMergePoints=True)\n",
    "\n",
    "    centroids = octree.getCentroids()\n",
    "    adjMat = octree.getAdjMat()\n",
    "\n",
    "\n",
    "    ax1 = fig.add_subplot(len(nBoxesArr), 2, 2*k+1, projection='3d')\n",
    "    \n",
    "    ax1.scatter(points[:,0], points[:,1], points[:,2], s=5, alpha=.01)\n",
    "    ax1.scatter(centroids[:,0], centroids[:,1], centroids[:,2], s=2)\n",
    "\n",
    "    for i in range(len(adjMat)):\n",
    "        edgeIndices = np.where(adjMat[i] > 0)[0]\n",
    "        for j in range(len(edgeIndices)):\n",
    "            ax1.plot(*list(zip(centroids[i], centroids[edgeIndices[j]])))\n",
    "\n",
    "    ax2 = fig.add_subplot(len(nBoxesArr), 2, 2*k+2, projection='3d')\n",
    "\n",
    "    ax2.scatter(skelPoints[:,0], skelPoints[:,1], skelPoints[:,2], s=2, alpha=1)\n",
    "    for i in range(len(skelAdjMat)):\n",
    "        edgeIndices = np.where(skelAdjMat[i] > 0)[0]\n",
    "        for j in range(len(edgeIndices)):\n",
    "            ax2.plot(*list(zip(skelPoints[i], skelPoints[edgeIndices[j]])))\n",
    "\n",
    "    ax1.set_title(f'Reduced Representation (N = {nBoxesArr[k]})')\n",
    "    ax2.set_title(f'Skeleton (N = {nBoxesArr[k]})')\n",
    "\n",
    "fig.tight_layout()\n",
    "#plt.savefig('cube_skeletonization.png', bbox_inches='tight')\n",
    "plt.show()"
   ]
  },
  {
   "cell_type": "code",
   "execution_count": null,
   "id": "3dfce482-a585-4869-aca2-a5f5acdc3b3a",
   "metadata": {},
   "outputs": [],
   "source": []
  }
 ],
 "metadata": {
  "kernelspec": {
   "display_name": "Python 3 (ipykernel)",
   "language": "python",
   "name": "python3"
  },
  "language_info": {
   "codemirror_mode": {
    "name": "ipython",
    "version": 3
   },
   "file_extension": ".py",
   "mimetype": "text/x-python",
   "name": "python",
   "nbconvert_exporter": "python",
   "pygments_lexer": "ipython3",
   "version": "3.11.3"
  }
 },
 "nbformat": 4,
 "nbformat_minor": 5
}
