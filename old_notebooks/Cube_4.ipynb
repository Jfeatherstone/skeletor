{
 "cells": [
  {
   "cell_type": "code",
   "execution_count": null,
   "id": "6d541ff6-7dfc-4be3-bdc6-397815429d47",
   "metadata": {},
   "outputs": [],
   "source": [
    "import pickle\n",
    "import numpy as np\n",
    "import matplotlib.pyplot as plt\n",
    "plt.rcParams['figure.dpi'] = 140\n",
    "\n",
    "from scipy.signal import convolve\n",
    "\n",
    "import sys\n",
    "sys.path.append('../')\n",
    "\n",
    "import pandas as pd\n",
    "import networkx as nx\n",
    "import tqdm\n",
    "from PIL import Image\n",
    "\n",
    "import skeletor as sk\n",
    "\n",
    "import colour"
   ]
  },
  {
   "cell_type": "code",
   "execution_count": null,
   "id": "c52a2571-f195-4df0-aad9-e85255d4456f",
   "metadata": {},
   "outputs": [],
   "source": [
    "data = '../Data/2d_web_scan.npy'\n",
    "dsFactor = 1\n",
    "neighborDistance = 25\n",
    "np.random.seed(10)\n",
    "\n",
    "#%matplotlib qt\n",
    "with open(data, 'rb') as f:\n",
    "    rawData = np.load(f)\n",
    "    \n",
    "order = np.arange(rawData.shape[0])\n",
    "np.random.shuffle(order)\n",
    "points = rawData[order][::dsFactor,:]\n",
    "\n",
    "#plt.scatter(scatterPoints[:,0], scatterPoints[:,2], s=.2)\n",
    "#plt.show()\n",
    "\n",
    "fig = plt.figure()\n",
    "ax = fig.add_subplot(projection='3d')\n",
    "\n",
    "ax.scatter(points[:,0], points[:,1], points[:,2], s=1)\n",
    "plt.show()"
   ]
  },
  {
   "cell_type": "code",
   "execution_count": null,
   "id": "3abb81c6-d29a-44fa-9c45-7bb3b00ead25",
   "metadata": {
    "tags": []
   },
   "outputs": [],
   "source": [
    "octree = sk.ask.Octree(points, 500, minPointsPerBox=4, maxPointsPerBox=200)"
   ]
  },
  {
   "cell_type": "code",
   "execution_count": null,
   "id": "2abaab84-f636-4281-aa7b-6f8f4c94d278",
   "metadata": {},
   "outputs": [],
   "source": [
    "%matplotlib inline\n",
    "\n",
    "fig = octree.plot()\n",
    "fig.set_size_inches((6,6))\n",
    "\n",
    "plt.savefig('ask_1.png', bbox_inches='tight')\n",
    "plt.show()"
   ]
  },
  {
   "cell_type": "code",
   "execution_count": null,
   "id": "973aa3a9-8bb4-4b4d-adde-ca33019e6a83",
   "metadata": {},
   "outputs": [],
   "source": [
    "%matplotlib inline\n",
    "\n",
    "fig = octree.plotSkeleton(plotEdges=True)\n",
    "fig.set_size_inches((6,6))\n",
    "\n",
    "plt.savefig('skeltre_3.png', bbox_inches='tight')\n",
    "plt.show()"
   ]
  },
  {
   "cell_type": "code",
   "execution_count": null,
   "id": "4a0d63de-9616-4621-b2c9-6b7a7aebe191",
   "metadata": {},
   "outputs": [],
   "source": [
    "np.sum(octree.skeleton()[1])"
   ]
  },
  {
   "cell_type": "code",
   "execution_count": null,
   "id": "e831b4fd-47aa-473d-97d4-2ca1d6e9a204",
   "metadata": {},
   "outputs": [],
   "source": [
    "plt.hist([len(b.neighbors) for k,b in octree.boxes.items()])\n",
    "plt.show()"
   ]
  },
  {
   "cell_type": "code",
   "execution_count": null,
   "id": "a685ae49-3fe9-4fd4-a8e9-b73d9e1cd835",
   "metadata": {},
   "outputs": [],
   "source": [
    "octree.boxes[(0,0,0)].vertexDir"
   ]
  },
  {
   "cell_type": "code",
   "execution_count": null,
   "id": "4094bd4d-5c56-4231-87d4-01aa8c3b3d93",
   "metadata": {},
   "outputs": [],
   "source": [
    "index = 1\n",
    "\n",
    "fig = octree.boxes[index].plot(c='red')\n",
    "\n",
    "for b in octree.boxes[index].neighbors:\n",
    "    b.plot(ax=fig.gca(), c=str(colour.Color(pick_for=b)))\n",
    "    \n",
    "plt.show()"
   ]
  },
  {
   "cell_type": "code",
   "execution_count": null,
   "id": "cc2918cd-86ad-4d70-826b-266dae68fb5b",
   "metadata": {},
   "outputs": [],
   "source": [
    "plt.hist([len(b.neighbors) for b in octree.boxes])\n",
    "plt.show()"
   ]
  },
  {
   "cell_type": "code",
   "execution_count": null,
   "id": "271c1fb8-45f2-4164-b1c1-5532b436f844",
   "metadata": {},
   "outputs": [],
   "source": [
    "list(range(5,2,-1))"
   ]
  },
  {
   "cell_type": "code",
   "execution_count": null,
   "id": "b356bb79-093d-438d-8a61-4de590d7ad2e",
   "metadata": {},
   "outputs": [],
   "source": [
    "octree.neighbors[0]"
   ]
  },
  {
   "cell_type": "code",
   "execution_count": null,
   "id": "1dd4236f-5717-4809-8286-6da5e1ddd8b1",
   "metadata": {
    "tags": []
   },
   "outputs": [],
   "source": [
    "%matplotlib inline\n",
    "\n",
    "colors = [str(c) for c in colour.Color('pink').range_to(colour.Color('black'), len(octree.boxes))]\n",
    "np.random.shuffle(colors)\n",
    "\n",
    "fig = plt.figure()\n",
    "ax = fig.add_subplot(projection='3d')\n",
    "\n",
    "for i in range(len(octree.boxes)):\n",
    "    octree.boxes[i].plot(ax=ax, c=str(colour.Color(pick_for=i)), alpha=.4)\n",
    "    \n",
    "plt.show()"
   ]
  },
  {
   "cell_type": "code",
   "execution_count": null,
   "id": "84c01791-6e38-4fc7-9889-4703d8d19c01",
   "metadata": {},
   "outputs": [],
   "source": [
    "octree.boxes[1].plot(c='b')\n",
    "plt.show()"
   ]
  },
  {
   "cell_type": "code",
   "execution_count": null,
   "id": "e95ff6d7-229a-49b9-8aca-0278514ee538",
   "metadata": {},
   "outputs": [],
   "source": [
    "%matplotlib inline\n",
    "fig = plt.figure()\n",
    "ax = fig.add_subplot(projection='3d')\n",
    "index = 15\n",
    "\n",
    "#print(octree.boxes[index])\n",
    "octree.boxes[index].plot(c='r', ax=ax, linestyle='--', alpha=.3)\n",
    "\n",
    "newBoxes = octree.boxes[index].divide(8)\n",
    "#print(newBoxes)\n",
    "for n in newBoxes:\n",
    "    n.plot(c=str(colour.Color(pick_for=n)), ax=ax)\n",
    "\n",
    "ax.set_xlabel('x')\n",
    "ax.set_ylabel('y')\n",
    "ax.set_zlabel('z')\n",
    "plt.show()"
   ]
  },
  {
   "cell_type": "code",
   "execution_count": null,
   "id": "ad675b63-e43d-49e7-8f46-ebeb0b7f22f7",
   "metadata": {},
   "outputs": [],
   "source": [
    "images = []\n",
    "\n",
    "fps = 20\n",
    "loop = 0\n",
    "dsFactor = 1\n",
    "divisions = 5\n",
    "dt = 1\n",
    "\n",
    "octree = sk.Octree(points, 1)\n",
    "boxes = octree.boxes\n",
    "\n",
    "for j in range(divisions):\n",
    "    for i in tqdm.tqdm(range(90//dt)):\n",
    "        fig = plt.figure(figsize=(9,9))\n",
    "\n",
    "        ax = fig.add_subplot(projection='3d')\n",
    "\n",
    "        for k in range(len(boxes)):\n",
    "            boxes[k].plot(ax=ax, c=str(colour.Color(pick_for=k)), alpha=.5)\n",
    "        \n",
    "        ax.view_init(-160, 90*j*dt+i*dt)\n",
    "\n",
    "        fig.tight_layout()\n",
    "        canvas = plt.get_current_fig_manager().canvas\n",
    "        canvas.draw()\n",
    "\n",
    "        images.append(Image.frombytes('RGB', canvas.get_width_height(),\n",
    "                     canvas.tostring_rgb()))\n",
    "\n",
    "        #plt.show()\n",
    "        plt.close()\n",
    "        \n",
    "    newBoxes = []\n",
    "    for b in boxes:\n",
    "        newBoxes += b.divide(8)\n",
    "        \n",
    "    boxes = newBoxes\n",
    "    \n",
    "images[0].save(f'adaptive_boxes.gif', save_all=True, append_images=images[1:], duration=fps, loop=loop)"
   ]
  },
  {
   "cell_type": "code",
   "execution_count": null,
   "id": "0bbc7d98-423c-4f84-be3e-98bea44e5b02",
   "metadata": {},
   "outputs": [],
   "source": [
    "images[0].save(f'adaptive_boxes.gif', save_all=True, append_images=images[1:], duration=fps, loop=loop)"
   ]
  },
  {
   "cell_type": "code",
   "execution_count": null,
   "id": "bdc7a805-0cde-4ce2-9f26-c875f0e4db28",
   "metadata": {},
   "outputs": [],
   "source": [
    "import itertools\n",
    "\n",
    "CARTESIAN_BASIS = np.array([[1,0,0],\n",
    "                            [0,1,0],\n",
    "                            [0,0,1]])\n",
    "\n",
    "def plotBox(corner, boxSize, ax=None, basis=CARTESIAN_BASIS, **kwargs):\n",
    "    \"\"\"\n",
    "    \"\"\"\n",
    "    if not ax:\n",
    "        fig = plt.figure()\n",
    "        ax = fig.add_subplot(projection='3d')\n",
    "\n",
    "    # Unit cube (sorta, side lengths are actually 2)\n",
    "    r = [-1, 1]\n",
    "    directions = np.array(list(itertools.product(r, r, r)))\n",
    "    \n",
    "    # Transform to given basis\n",
    "    directions = np.array([np.dot(d, basis) for d in directions])\n",
    "\n",
    "    # Choose only lines that have a magnitude of 2 (since we have a sorta unit cube),\n",
    "    # removing diagonal lines.\n",
    "    # For some godforsaken reason, using 64 bit floats will\n",
    "    # identify two side lengths as different even though they are\n",
    "    # the same (no idea why that's an issue here, it's not like I'm\n",
    "    # using super tiny side lengths...) so we have to cast to 32 bit\n",
    "    # floats. \n",
    "    lines = np.array([c for c in itertools.combinations(directions, 2) if np.sqrt(np.sum((c[1]-c[0])**2)).astype(np.float32) == r[1]-r[0]])\n",
    "\n",
    "    # Now account for corner and boxsize\n",
    "    lines = [((c[0]+1)*boxSize/2 + corner, (c[1]+1)*boxSize/2 + corner) for c in lines]\n",
    "\n",
    "    for v1, v2 in lines:\n",
    "        ax.plot3D(*zip(v1, v2), **kwargs)\n",
    "\n",
    "    return plt.gcf()"
   ]
  },
  {
   "cell_type": "code",
   "execution_count": null,
   "id": "357ac1de-c006-45ac-9b04-1d2cac71a5e7",
   "metadata": {},
   "outputs": [],
   "source": [
    "basis = np.array([[-1/np.sqrt(2), 1/np.sqrt(2), 0],\n",
    "                  [1/np.sqrt(2), 1/np.sqrt(2), 0],\n",
    "                  [0, 0, 1]])\n",
    "\n",
    "plotBox([1,1,1], [3,3,3], basis=basis)\n",
    "plt.show()"
   ]
  },
  {
   "cell_type": "code",
   "execution_count": null,
   "id": "bdd57ee8-4d95-4d7f-b521-8c3c01a0d6e8",
   "metadata": {},
   "outputs": [],
   "source": []
  },
  {
   "cell_type": "code",
   "execution_count": null,
   "id": "cf49f790-d00e-484b-b7f8-b7a066f9f257",
   "metadata": {},
   "outputs": [],
   "source": []
  }
 ],
 "metadata": {
  "kernelspec": {
   "display_name": "Python 3 (ipykernel)",
   "language": "python",
   "name": "python3"
  },
  "language_info": {
   "codemirror_mode": {
    "name": "ipython",
    "version": 3
   },
   "file_extension": ".py",
   "mimetype": "text/x-python",
   "name": "python",
   "nbconvert_exporter": "python",
   "pygments_lexer": "ipython3",
   "version": "3.7.13"
  }
 },
 "nbformat": 4,
 "nbformat_minor": 5
}
