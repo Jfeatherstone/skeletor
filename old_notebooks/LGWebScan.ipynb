{
 "cells": [
  {
   "cell_type": "code",
   "execution_count": null,
   "id": "fe1e44ae-3788-4005-82b4-b634bcff8846",
   "metadata": {},
   "outputs": [],
   "source": [
    "import numpy as np\n",
    "import matplotlib.pyplot as plt\n",
    "\n",
    "import sys\n",
    "sys.path.append('../')\n",
    "\n",
    "import skeletor as sk\n",
    "\n",
    "import tqdm\n",
    "\n",
    "import networkx as nx"
   ]
  },
  {
   "cell_type": "code",
   "execution_count": null,
   "id": "833f1184-1aba-481b-adfa-44872dc8efb4",
   "metadata": {},
   "outputs": [],
   "source": [
    "data = '/home/jack/Workspaces/data/PointClouds/2023-05-09_LG_A_t50.npy'\n",
    "dsFactor = 5\n",
    "neighborDistance = 25\n",
    "np.random.seed(10)\n",
    "\n",
    "#%matplotlib qt\n",
    "with open(data, 'rb') as f:\n",
    "    rawData = np.load(f)\n",
    "    \n",
    "order = np.arange(rawData.shape[0])\n",
    "np.random.shuffle(order)\n",
    "points = rawData[order][::dsFactor,:]\n",
    "\n",
    "#plt.scatter(scatterPoints[:,0], scatterPoints[:,2], s=.2)\n",
    "#plt.show()\n",
    "\n",
    "# fig = plt.figure()\n",
    "# ax = fig.add_subplot(projection='3d')\n",
    "\n",
    "# ax.scatter(points[:,0], points[:,1], points[:,2], s=1)\n",
    "# fig.set_size_inches((6,6))\n",
    "# fig.tight_layout()\n",
    "# #plt.savefig('2d_web_point_cloud.png')\n",
    "# plt.show()"
   ]
  },
  {
   "cell_type": "code",
   "execution_count": null,
   "id": "603396ec-ae83-40fc-ad04-07f692c37a53",
   "metadata": {},
   "outputs": [],
   "source": [
    "cgField = sk.courseGrainField(rawData)\n",
    "\n",
    "neighborScatterPoints = np.array(np.where(cgField > .5)).T\n",
    "\n",
    "fig = plt.figure()\n",
    "ax = fig.add_subplot(projection='3d')\n",
    "\n",
    "scatter = ax.scatter(*neighborScatterPoints.T, s=.2, alpha=.5, c=cgField[np.where(cgField > .5)])\n",
    "fig.colorbar(scatter)\n",
    "plt.show()"
   ]
  },
  {
   "cell_type": "code",
   "execution_count": null,
   "id": "883898b4-ba25-42fb-b290-a70aa5c0ce6b",
   "metadata": {},
   "outputs": [],
   "source": [
    "def probabilisticDownsample(allPoints, k=100):\n",
    "    cgField, spacing = sk.courseGrainField(allPoints, returnSpacing=True)\n",
    "    latticePositions = np.int64((allPoints - np.min(allPoints, axis=0))/spacing)\n",
    "    print(np.shape(latticePositions))\n",
    "    densityValues = np.array([cgField[tuple(l)] for l in latticePositions], dtype=np.float32)\n",
    "    \n",
    "    #includePoints = np.random.uniform(0, 1, size=len(allPoints)) < np.exp(-densityValues/k)\n",
    "    includePoints = densityValues < k\n",
    "\n",
    "    return allPoints[includePoints]"
   ]
  },
  {
   "cell_type": "code",
   "execution_count": null,
   "id": "511738b3-adbc-444b-9e3f-4a82c4be0505",
   "metadata": {},
   "outputs": [],
   "source": [
    "points = probabilisticDownsample(rawData)"
   ]
  },
  {
   "cell_type": "code",
   "execution_count": null,
   "id": "3595ed4d-5ce4-4cbd-ac1e-4b1dafbff305",
   "metadata": {},
   "outputs": [],
   "source": [
    "print(np.shape(points))\n",
    "\n",
    "%matplotlib qt\n",
    "fig = plt.figure()\n",
    "ax = fig.add_subplot(projection='3d')\n",
    "\n",
    "ax.scatter(*points.T, s=1)\n",
    "fig.set_size_inches((6,6))\n",
    "fig.tight_layout()\n",
    "#plt.savefig('2d_web_point_cloud.png')\n",
    "plt.show()"
   ]
  },
  {
   "cell_type": "code",
   "execution_count": null,
   "id": "0c51aa92-9902-4ae9-a5ab-178b95fcc61c",
   "metadata": {},
   "outputs": [],
   "source": []
  }
 ],
 "metadata": {
  "kernelspec": {
   "display_name": "Python 3 (ipykernel)",
   "language": "python",
   "name": "python3"
  },
  "language_info": {
   "codemirror_mode": {
    "name": "ipython",
    "version": 3
   },
   "file_extension": ".py",
   "mimetype": "text/x-python",
   "name": "python",
   "nbconvert_exporter": "python",
   "pygments_lexer": "ipython3",
   "version": "3.7.13"
  }
 },
 "nbformat": 4,
 "nbformat_minor": 5
}
