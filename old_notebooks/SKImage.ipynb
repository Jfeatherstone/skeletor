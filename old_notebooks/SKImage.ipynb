{
 "cells": [
  {
   "cell_type": "code",
   "execution_count": null,
   "id": "dd698eea-ae52-4935-8f4b-a6f097c4eec9",
   "metadata": {},
   "outputs": [],
   "source": [
    "import numpy as np\n",
    "\n",
    "from skimage.morphology import skeletonize\n",
    "\n",
    "import matplotlib.pyplot as plt\n",
    "import tqdm\n",
    "\n",
    "import colour\n",
    "from scipy.spatial import KDTree\n",
    "\n",
    "import skeletor as sk"
   ]
  },
  {
   "cell_type": "code",
   "execution_count": null,
   "id": "e1720da4-fe70-4b65-9dec-c70b2dca0a4c",
   "metadata": {},
   "outputs": [],
   "source": [
    "%matplotlib inline\n",
    "data = 'Data/2d_web_scan.npy'\n",
    "dsFactor = 1\n",
    "neighborDistance = 25\n",
    "np.random.seed(10)\n",
    "\n",
    "#%matplotlib qt\n",
    "with open(data, 'rb') as f:\n",
    "    rawData = np.load(f)\n",
    "    \n",
    "order = np.arange(rawData.shape[0])\n",
    "np.random.shuffle(order)\n",
    "points = rawData[order][::dsFactor,:]\n",
    "\n",
    "fig = plt.figure()\n",
    "ax = fig.add_subplot(projection='3d')\n",
    "\n",
    "ax.scatter(points[:,0], points[:,1], points[:,2], s=1)\n",
    "plt.show()"
   ]
  },
  {
   "cell_type": "code",
   "execution_count": null,
   "id": "75bf78d5-60d2-4514-8321-280889afdac5",
   "metadata": {},
   "outputs": [],
   "source": []
  },
  {
   "cell_type": "code",
   "execution_count": null,
   "id": "416e292e-1af8-4df2-b5b8-e9bb1e59a035",
   "metadata": {},
   "outputs": [],
   "source": [
    "np.sum(skeleton)"
   ]
  },
  {
   "cell_type": "code",
   "execution_count": null,
   "id": "5a7a2c09-e044-4d01-9477-6bc3d4d15de2",
   "metadata": {},
   "outputs": [],
   "source": [
    "voxelImage = sk.courseGrainField(points, kernelSize=11)\n",
    "\n",
    "skeleton = skeletonize(voxelImage)\n",
    "\n",
    "threshold = .1\n",
    "fig = plt.figure(figsize=(15,8))\n",
    "\n",
    "densityPoints = np.array(np.where(skeleton > threshold)).T\n",
    "\n",
    "ax = fig.add_subplot(projection='3d')\n",
    "\n",
    "scatter = ax.scatter(densityPoints[:,0], densityPoints[:,1], densityPoints[:,2], s=5, alpha=.3, c=skeleton[np.where(skeleton > threshold)])\n",
    "fig.colorbar(scatter)\n",
    "    \n",
    "fig.tight_layout()\n",
    "plt.show()"
   ]
  },
  {
   "cell_type": "code",
   "execution_count": null,
   "id": "98dcf1a6-5899-45c5-81e7-ba50cc66a0d5",
   "metadata": {},
   "outputs": [],
   "source": []
  }
 ],
 "metadata": {
  "kernelspec": {
   "display_name": "Python 3 (ipykernel)",
   "language": "python",
   "name": "python3"
  },
  "language_info": {
   "codemirror_mode": {
    "name": "ipython",
    "version": 3
   },
   "file_extension": ".py",
   "mimetype": "text/x-python",
   "name": "python",
   "nbconvert_exporter": "python",
   "pygments_lexer": "ipython3",
   "version": "3.7.13"
  }
 },
 "nbformat": 4,
 "nbformat_minor": 5
}
