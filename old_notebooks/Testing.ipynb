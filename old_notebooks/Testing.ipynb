{
 "cells": [
  {
   "cell_type": "code",
   "execution_count": null,
   "id": "97175a3a-a69e-48d8-ac41-03dee1c9ecca",
   "metadata": {},
   "outputs": [],
   "source": [
    "import pickle\n",
    "import numpy as np\n",
    "import matplotlib.pyplot as plt\n",
    "\n",
    "from scipy.signal import convolve\n",
    "\n",
    "import pandas as pd\n",
    "import networkx as nx\n",
    "\n",
    "import skeletor as sk"
   ]
  },
  {
   "cell_type": "code",
   "execution_count": null,
   "id": "9631e9a8-c22d-4f56-9a5c-39a67d85fbcf",
   "metadata": {},
   "outputs": [],
   "source": [
    "with open('Data/myDict_N20K_t128.pkl', 'rb') as f:\n",
    "    data = pickle.load(f)"
   ]
  },
  {
   "cell_type": "code",
   "execution_count": null,
   "id": "2eb10b87-3a9a-4bae-a45a-81be5a438fcf",
   "metadata": {},
   "outputs": [],
   "source": [
    "points = [data[d].points for d in data]"
   ]
  },
  {
   "cell_type": "code",
   "execution_count": null,
   "id": "bf3940ef-5fa2-438e-8a5b-c69a01da4a92",
   "metadata": {},
   "outputs": [],
   "source": [
    "allPoints = []\n",
    "for p in points:\n",
    "    allPoints += list(p)\n",
    "    \n",
    "allPoints = np.array(allPoints)"
   ]
  },
  {
   "cell_type": "code",
   "execution_count": null,
   "id": "6d4fcaa4-d525-405b-abc7-df769efac60f",
   "metadata": {},
   "outputs": [],
   "source": []
  },
  {
   "cell_type": "code",
   "execution_count": null,
   "id": "c3fef5ab-9900-49be-8593-94e4e77ee19c",
   "metadata": {},
   "outputs": [],
   "source": [
    "fig = plt.figure()\n",
    "ax = fig.add_subplot(projection='3d')\n",
    "\n",
    "ax.scatter(allPoints[:,0], allPoints[:,1], allPoints[:,2], s=1)\n",
    "plt.show()"
   ]
  },
  {
   "cell_type": "code",
   "execution_count": null,
   "id": "6c9cf413-ea88-40b9-ad6e-49921c29f6c7",
   "metadata": {},
   "outputs": [],
   "source": [
    "cgPoints, adjMat = skeletonize(allPoints, 5000, True)"
   ]
  },
  {
   "cell_type": "code",
   "execution_count": null,
   "id": "74e9cf07-0e36-4b6c-b699-317533e03a99",
   "metadata": {},
   "outputs": [],
   "source": [
    "cgPoints = np.array([data[d].cg for d in data if data[d].contains_points])\n",
    "boxNames = [data[d].name for d in data if data[d].contains_points]\n",
    "nameConversion = dict(zip(boxNames, np.arange(len(boxNames))))\n",
    "connections = [data[d].connections for d in data if data[d].contains_points]\n",
    "\n",
    "fig = plt.figure()\n",
    "ax = fig.add_subplot(projection='3d')\n",
    "\n",
    "ax.scatter(cgPoints[:,0], cgPoints[:,1], cgPoints[:,2], s=1)\n",
    "plt.show()"
   ]
  },
  {
   "cell_type": "code",
   "execution_count": null,
   "id": "91bf3ccb-5733-442e-8722-bb603d5852cd",
   "metadata": {},
   "outputs": [],
   "source": [
    "np.sum(adjMat)"
   ]
  },
  {
   "cell_type": "code",
   "execution_count": null,
   "id": "4f72273b-3ed1-4958-9212-ceb9af3588e3",
   "metadata": {},
   "outputs": [],
   "source": [
    "%matplotlib inline\n",
    "adjMat = np.zeros((len(cgPoints), len(cgPoints)))\n",
    "\n",
    "#cgField = courseGrainField(allPoints, 1, latticeSpacing=.02)\n",
    "\n",
    "#densityPoints = np.array(np.where(cgField > .1)).T\n",
    "\n",
    "for i in range(len(adjMat)):\n",
    "    for k,v in connections[i].items():\n",
    "        adjMat[i,nameConversion[k]] += 1\n",
    "        \n",
    "fig = plt.figure(figsize=(10,10))\n",
    "ax = fig.add_subplot(projection='3d')\n",
    "\n",
    "#ax.scatter(densityPoints[:,0], densityPoints[:,1], densityPoints[:,2], s=5, alpha=.1, c=cgField[np.where(cgField > .1)])\n",
    "\n",
    "ax.scatter(cgPoints[:,0], cgPoints[:,1], cgPoints[:,2], s=2)\n",
    "for i in range(len(adjMat)):\n",
    "    edgeIndices = np.where(adjMat[i] > 0)[0]\n",
    "    for j in range(len(edgeIndices)):\n",
    "        ax.plot(*list(zip(cgPoints[i], cgPoints[edgeIndices[j]])))\n",
    "\n",
    "plt.savefig('skeltre_web_t128.png', bbox_inches='tight')\n",
    "plt.show()"
   ]
  },
  {
   "cell_type": "code",
   "execution_count": null,
   "id": "fda894e3-8b1c-402a-9a55-9931df633089",
   "metadata": {},
   "outputs": [],
   "source": [
    "graph = nx.Graph()\n",
    "\n",
    "graph.add_nodes_from(cgPoints)"
   ]
  },
  {
   "cell_type": "code",
   "execution_count": null,
   "id": "a809631f-7570-495c-b6b1-105d1fa5a59a",
   "metadata": {},
   "outputs": [],
   "source": [
    "def courseGrainField(points, values=None, defaultValue=0, latticeSpacing=None, kernel='gaussian', kernelSize=5):\n",
    "    \"\"\"\n",
    "    Course grains a collection of values at arbitrary points,\n",
    "    into a discrete field.\n",
    "\n",
    "    If `values=None`, course-grained field is the point density. \n",
    "\n",
    "    Parameters\n",
    "    ----------\n",
    "    points : numpy.ndarray[N,d]\n",
    "        Spatial positions of N points in d-dimensional space.\n",
    "\n",
    "    values : numpy.ndarray[N,[k]] or None\n",
    "        Field values at each point. Can be k-dimensional vector,\n",
    "        resulting in k course-grained fields. If `None`, returned\n",
    "        field will be the point density.\n",
    "\n",
    "    defaultValue : float or numpy.ndarray[k]\n",
    "        The default value of the course-grained field;\n",
    "        probably `0` for most applications.\n",
    "\n",
    "    latticeSpacing : float or None\n",
    "        The spacing of lattice points for the course-grained field.\n",
    "\n",
    "        If `None`, will be chosen such that the largest-spanning axis\n",
    "        has 100 lattice points, with other axes using the same spacing.\n",
    "\n",
    "    kernel : str or numpy.ndarray[A,A]\n",
    "        The kernel to course-grain the field with. 'gaussian'\n",
    "        option is implemented as default, but a custom matrix\n",
    "        can be provided. If using default gaussian option,\n",
    "        kernel size can be set with `kernelSize`.\n",
    "\n",
    "    kernelSize : int\n",
    "        The kernel size to use if `kernel='gaussian'`.\n",
    "        If a custom kernel is provided, this has no effect.\n",
    "    \"\"\"\n",
    "\n",
    "    # Calculate the bounds of the volume enclosing all of the data\n",
    "    occupiedVolumeBounds = np.array(list(zip(np.min(points, axis=0), np.max(points, axis=0))))\n",
    "\n",
    "    # Create a lattice with the selected scale for that cube\n",
    "    if latticeSpacing is not None:\n",
    "        spacing = latticeSpacing\n",
    "    else:\n",
    "        # Choose such that the largest spanning axis has 100 points\n",
    "        spacing = np.max(occupiedVolumeBounds[:,1] - occupiedVolumeBounds[:,0]) / 100\n",
    "\n",
    "    fieldDims = np.ceil(1 + (occupiedVolumeBounds[:,1] - occupiedVolumeBounds[:,0])/(spacing)).astype(np.int64)\n",
    "\n",
    "    # Calculate which lattice cell each scatter point falls into\n",
    "    latticePositions = np.floor((points - occupiedVolumeBounds[:,0])/spacing).astype(np.int64)\n",
    "\n",
    "    # Check if an array of values was passed for each point\n",
    "    # Otherwise we just have a scalar field (and we'll collapse\n",
    "    # the last dimension later on).\n",
    "    if hasattr(values, '__iter__'):\n",
    "        k = np.shape(values)[-1]\n",
    "        valArr = values\n",
    "    else:\n",
    "        k = 1\n",
    "        valArr = np.zeros((np.shape(points)[0], 1)) + values if values else 1\n",
    "\n",
    "    fieldArr = np.zeros((*fieldDims, k))\n",
    "    # Instead of actually applying a gaussian kernel now, which would be\n",
    "    # very inefficient since we'd need to sum a potentially very large number\n",
    "    # of k*d dimensional matrices (more or less), we instead just assign each\n",
    "    # lattice point, then smooth over it after with the specified kernel.\n",
    "    # Where this might cause issues:\n",
    "    # - If the lattice spacing is too large, you will get some weird artifacts\n",
    "    #   from this process. Though in that case, you'll get a ton of artifacts from\n",
    "    #   elsewhere too, so just don't use too large a lattice spacing :)\n",
    "    print(tuple(latticePositions[0]))\n",
    "    for i in range(np.shape(points)[0]):\n",
    "        fieldArr[tuple(latticePositions[i])] += valArr[i]\n",
    "\n",
    "    # Now smooth over the field\n",
    "    if kernel == 'gaussian':\n",
    "        gaussianBlurKernel = np.zeros(np.repeat(kernelSize, np.shape(points)[-1]))\n",
    "        singleAxis = np.arange(kernelSize)\n",
    "        kernelGrid = np.meshgrid(*np.repeat([singleAxis], np.shape(points)[-1], axis=0))\n",
    "        #kernelGrid = np.meshgrid(singleAxis, singleAxis, singleAxis)\n",
    "        # No 2 prefactor in the gaussian denominator because I want the kernel to\n",
    "        # decay nearly to 0 at the corners\n",
    "        kernelArr = np.exp(-np.sum([(kernelGrid[i] - (kernelSize-1)/2.)**2 for i in range(np.shape(points)[-1])], axis=0) / (kernelSize))\n",
    "        # Now account for however many dimensions k we have\n",
    "        #kernelArr = np.repeat([kernelArr] if k > 1 else kernelArr, k, axis=0)\n",
    "\n",
    "    # Otherwise, we expect that kernel should already be passed as a \n",
    "    # proper square d-dimensional matrix\n",
    "    else:\n",
    "        kernelArr = kernel\n",
    "\n",
    "    # Perform a convolution of the field with our kernel\n",
    "    # 'same' keeps the same bounds on the field, but might cause\n",
    "    # some weird effects near the boundaries\n",
    "    # Divide out the sum of the kernel to normalize\n",
    "    transConvolution = np.zeros_like(fieldArr.T)\n",
    "        \n",
    "    for i in range(k):\n",
    "        # Note that convolve(x, y) == convolve(x.T, y.T).T\n",
    "        # We need this so we can go over our k axis\n",
    "        transConvolution[i] = convolve(fieldArr.T[i], kernelArr.T, mode='same') / np.sum(kernelArr)\n",
    "\n",
    "    convolution = transConvolution.T\n",
    "\n",
    "    # If k == 1, collapse the extra dimension\n",
    "    if k == 1:\n",
    "        return convolution[..., 0]\n",
    "    \n",
    "    return convolution"
   ]
  },
  {
   "cell_type": "code",
   "execution_count": null,
   "id": "85ad7c48-4ec3-4867-b909-ebd8339cad58",
   "metadata": {},
   "outputs": [],
   "source": [
    "cgField = sk.courseGrainField(allPoints, 1, latticeSpacing=.02)\n",
    "\n",
    "densityPoints = np.array(np.where(cgField > .05)).T\n",
    "\n",
    "fig = plt.figure(figsize=(9, 6))\n",
    "ax1 = fig.add_subplot(1, 2, 1, projection='3d')\n",
    "\n",
    "ax1.scatter(allPoints[:,0], allPoints[:,1], allPoints[:,2], s=1)\n",
    "\n",
    "ax2 = fig.add_subplot(1, 2, 2, projection='3d')\n",
    "scatter = ax2.scatter(densityPoints[:,0], densityPoints[:,1], densityPoints[:,2], s=5, alpha=.3, c=cgField[np.where(cgField > .05)])\n",
    "\n",
    "ax1.set_title('Original Points')\n",
    "ax2.set_title('Course Grained Density')\n",
    "#fig.colorbar(scatter)\n",
    "\n",
    "fig.tight_layout()\n",
    "plt.savefig('course_grain_tree.png')\n",
    "plt.show()"
   ]
  },
  {
   "cell_type": "code",
   "execution_count": null,
   "id": "e032e7e9-9b3f-473f-9293-5bb348a8f6ff",
   "metadata": {},
   "outputs": [],
   "source": [
    "test = data[list(data.keys())[10]]\n",
    "dir(test)"
   ]
  },
  {
   "cell_type": "code",
   "execution_count": null,
   "id": "d30b8ee9-dac7-4bc4-9f41-07823054523a",
   "metadata": {},
   "outputs": [],
   "source": [
    "pd.DataFrame([vars(data[d]) for d in data])"
   ]
  },
  {
   "cell_type": "code",
   "execution_count": null,
   "id": "9621248f-654f-4e0b-8bbb-53c230322241",
   "metadata": {},
   "outputs": [],
   "source": [
    "def partitionIntoBoxes(points, nBoxes, cubes=False, returnCorners=False):\n",
    "    \"\"\"\n",
    "    Partition a set of points into boxes of equal size.\n",
    "\n",
    "    Parameters\n",
    "    ----------\n",
    "    points : numpy.ndarray[N,d]\n",
    "        Array of N points in d dimensions\n",
    "        \n",
    "    nBoxes : int\n",
    "        Number of boxes to partition the space into; not necessarily the\n",
    "        number of unique box identities returned, since only non-empty\n",
    "        boxes will be returned.\n",
    "        \n",
    "    cubes : bool\n",
    "        Whether to partition the space into isotropic volumes (True), or to\n",
    "        allow the dimensions of the boxes to vary between dimensions (False).\n",
    "        \n",
    "    Returns\n",
    "    -------\n",
    "    boxSize : numpy.ndarray[d]\n",
    "        Dimensions of the subdivided spaces.\n",
    "        \n",
    "    boxIdentities : numpy.ndarray[N]\n",
    "        Identities of the box to which each point belongs to.\n",
    "        Guaranteed to be continuous interger labels, ie. the\n",
    "        total number of occupied boxes, M, is:\n",
    "        \n",
    "            `np.max(np.unique(boxIdentities)) + 1`\n",
    "            \n",
    "        and the existence of box `i` implies the existence\n",
    "        of box `i-1` for i > 0.\n",
    "        \n",
    "    boxCorners : numpy.ndarray[M,d]\n",
    "        Corner of each occupied box; note that M != N in most\n",
    "        cases.\n",
    "        \n",
    "    \"\"\"\n",
    "\n",
    "    occupiedVolumeBounds = np.array(list(zip(np.min(points, axis=0), np.max(points, axis=0))))\n",
    "\n",
    "    volumeSize = occupiedVolumeBounds[:,1] - occupiedVolumeBounds[:,0]\n",
    "    print(points.shape[-1])\n",
    "    boxSize = volumeSize / nBoxes**(1/points.shape[-1]) # [x, y, z, ...]\n",
    "\n",
    "    if cubes:\n",
    "        # If we are partitioning into cubes, then we have to choose the dimension of the\n",
    "        # side; we choose the finest dimension, because that seems reasonable.\n",
    "        boxSize = np.repeat(np.min(boxSize), points.shape[-1])\n",
    "    \n",
    "    boxIdentities = np.floor((points - occupiedVolumeBounds[:,0]) / boxSize).astype(np.int64)\n",
    "\n",
    "    # Now change box identities from (i,j,k) to just i\n",
    "    boxLabels = [tuple(t) for t in np.unique(boxIdentities, axis=0)] # (i,j,k)\n",
    "    # dictionary: {(i,j,k) : l}\n",
    "    boxLabelConversion = dict(zip(boxLabels, np.arange(len(boxLabels))))\n",
    "    linearBoxIdentities = np.array([boxLabelConversion[tuple(l)] for l in boxIdentities]) # l\n",
    "    \n",
    "    if returnCorners:\n",
    "        # Upper left corner of the boxes\n",
    "        boxCorners = [tuple(occupiedVolumeBounds[:,0] + t*boxSize) for t in np.unique(boxIdentities, axis=0)]\n",
    "        # Note that this conversion is slightly different than before since we\n",
    "        # don't want the corner for each point, but for each box; see docstring\n",
    "        boxCornersConversion = dict(zip(boxLabels, boxCorners))\n",
    "        inverseLabelConversion = {v : k for k,v in boxLabelConversion.items()}\n",
    "        linearBoxCorners = np.array([boxCornersConversion[inverseLabelConversion[l]] for l in np.unique(linearBoxIdentities)])\n",
    "        return boxSize, linearBoxIdentities, linearBoxCorners\n",
    "    \n",
    "    return boxSize, linearBoxIdentities\n"
   ]
  },
  {
   "cell_type": "code",
   "execution_count": null,
   "id": "e95d2a90-f367-4d6d-a433-82cc16e52857",
   "metadata": {},
   "outputs": [],
   "source": [
    "boxSize, identities = partitionIntoBoxes(allPoints, 100)"
   ]
  },
  {
   "cell_type": "code",
   "execution_count": null,
   "id": "984b6d81-9f22-4112-a009-2f07a6870799",
   "metadata": {},
   "outputs": [],
   "source": [
    "fig = plt.figure()\n",
    "ax = fig.add_subplot(projection='3d')\n",
    "for i in range(len(np.unique(identities))):\n",
    "    p = np.where(identities == i)\n",
    "    ax.scatter(allPoints[p,0], allPoints[p,1], allPoints[p,2], s=1)\n",
    "plt.show()"
   ]
  },
  {
   "cell_type": "code",
   "execution_count": null,
   "id": "058ea6a1-bc2f-4de8-9658-16d9d89f3aef",
   "metadata": {},
   "outputs": [],
   "source": [
    "print(centers[0])\n",
    "print(allPoints[np.where(identities == 0)])"
   ]
  },
  {
   "cell_type": "code",
   "execution_count": null,
   "id": "340a52e7-266a-49f8-ac3e-acb80362e58c",
   "metadata": {},
   "outputs": [],
   "source": [
    "len(centers)"
   ]
  },
  {
   "cell_type": "code",
   "execution_count": null,
   "id": "5a30c856-7238-4169-a028-765013938e65",
   "metadata": {},
   "outputs": [],
   "source": [
    "axis = np.arange(5)"
   ]
  },
  {
   "cell_type": "code",
   "execution_count": null,
   "id": "7764f943-545d-45d2-99bd-74e2776c62be",
   "metadata": {},
   "outputs": [],
   "source": [
    "a = np.array([[1, 2], [3, 4]])\n",
    "np.repeat([a], 3, axis=0)"
   ]
  },
  {
   "cell_type": "code",
   "execution_count": null,
   "id": "d6d87f55-cb2f-4bba-8015-43180d3b98d6",
   "metadata": {},
   "outputs": [],
   "source": [
    "a = np.random.uniform(size=(101,101))\n",
    "a[25,25]=3"
   ]
  },
  {
   "cell_type": "code",
   "execution_count": null,
   "id": "632873c8-76d9-43c3-aa9c-0facc1e4891b",
   "metadata": {},
   "outputs": [],
   "source": [
    "%matplotlib inline\n",
    "plt.pcolor(a)\n",
    "plt.colorbar()\n",
    "plt.show()\n",
    "\n",
    "plt.imshow(a)\n",
    "plt.colorbar()\n",
    "plt.show()"
   ]
  },
  {
   "cell_type": "code",
   "execution_count": null,
   "id": "5183c253-30b1-4f5d-980b-585ae43dcda9",
   "metadata": {},
   "outputs": [],
   "source": [
    "def pointsOnCirclePerimeter(r):\n",
    "    yAxis = np.arange(a.shape[0])\n",
    "    xAxis = np.arange(a.shape[1])\n",
    "    center = np.array([50,50])\n",
    "\n",
    "    innerCircle = np.add.outer((xAxis - center[1])**2, (yAxis - center[0])**2) <= (r-1)**2\n",
    "    outerCircle = np.add.outer((xAxis - center[1])**2, (yAxis - center[0])**2) <= (r+1)**2\n",
    "\n",
    "    circlePerimeter = innerCircle.astype(int) + outerCircle.astype(int) == 1\n",
    "\n",
    "    return np.where(circlePerimeter)"
   ]
  },
  {
   "cell_type": "code",
   "execution_count": null,
   "id": "8215f8fe-655a-41a5-a8f9-2065eadf9a61",
   "metadata": {
    "tags": []
   },
   "outputs": [],
   "source": [
    "plt.plot(np.arange(0, 50), [np.mean(a[pointsOnCirclePerimeter(r)]) for r in range(0, 50)])\n",
    "plt.show()"
   ]
  },
  {
   "cell_type": "code",
   "execution_count": null,
   "id": "938411ae-04c2-4b4a-a41c-0f4bf3a03eed",
   "metadata": {},
   "outputs": [],
   "source": [
    "\n",
    "plt.pcolor(np.where(circlePerimeter, a, 0))\n",
    "plt.show()"
   ]
  },
  {
   "cell_type": "code",
   "execution_count": null,
   "id": "d41f56f2-7a7a-4c31-ba7a-ba29c93cfca2",
   "metadata": {},
   "outputs": [],
   "source": [
    "def circleRadii():\n",
    "    yAxis = np.arange(a.shape[0])\n",
    "    xAxis = np.arange(a.shape[1])\n",
    "    center = np.array([50,50])\n",
    "\n",
    "    circle = np.add.outer((xAxis - center[1])**2, (yAxis - center[0])**2)\n",
    "\n",
    "    circlePerimeter = innerCircle.astype(int) + outerCircle.astype(int) == 1\n",
    "\n",
    "    return circle\n",
    "\n",
    "plt.pcolor(circleRadii())\n",
    "plt.colorbar()\n",
    "plt.show()"
   ]
  },
  {
   "cell_type": "code",
   "execution_count": null,
   "id": "12af8cc3-b55b-4176-b6a4-a3f4f342137f",
   "metadata": {},
   "outputs": [],
   "source": [
    "a = [1, 2, 3, 4]\n",
    "b = (1, 2, 3, 4)\n",
    "c = np.array(a) # np.array(b)"
   ]
  },
  {
   "cell_type": "code",
   "execution_count": null,
   "id": "6969b729-6005-4987-8d41-fdb8d5353d1d",
   "metadata": {},
   "outputs": [],
   "source": [
    "type(a)"
   ]
  },
  {
   "cell_type": "code",
   "execution_count": null,
   "id": "deeabc4c-c90b-4026-ad36-975bad517ca3",
   "metadata": {},
   "outputs": [],
   "source": [
    "type(b)"
   ]
  },
  {
   "cell_type": "code",
   "execution_count": null,
   "id": "85535fea-29d2-4cdc-8155-7383b2cc75e9",
   "metadata": {},
   "outputs": [],
   "source": [
    "type(c)"
   ]
  },
  {
   "cell_type": "code",
   "execution_count": null,
   "id": "a0aeefa3-35fd-491c-9f86-0ec7dcbd6780",
   "metadata": {},
   "outputs": [],
   "source": []
  }
 ],
 "metadata": {
  "kernelspec": {
   "display_name": "Python 3 (ipykernel)",
   "language": "python",
   "name": "python3"
  },
  "language_info": {
   "codemirror_mode": {
    "name": "ipython",
    "version": 3
   },
   "file_extension": ".py",
   "mimetype": "text/x-python",
   "name": "python",
   "nbconvert_exporter": "python",
   "pygments_lexer": "ipython3",
   "version": "3.11.3"
  }
 },
 "nbformat": 4,
 "nbformat_minor": 5
}
