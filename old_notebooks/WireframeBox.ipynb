{
 "cells": [
  {
   "cell_type": "code",
   "execution_count": null,
   "id": "cf20e00e-3961-4d5b-9feb-0059f45c0940",
   "metadata": {},
   "outputs": [],
   "source": [
    "import numpy as np\n",
    "\n",
    "import matplotlib.pyplot as plt\n",
    "import numba\n",
    "\n",
    "import tqdm\n",
    "\n",
    "from covertree import CoverTree\n",
    "import skeletor as sk"
   ]
  },
  {
   "cell_type": "code",
   "execution_count": null,
   "id": "533fc3b5-7ccf-4a6c-8719-64c6d18f6941",
   "metadata": {},
   "outputs": [],
   "source": [
    "@numba.njit()\n",
    "def metric(q,p):\n",
    "    return np.sum((q - p)**30)**(1/30)\n",
    "\n",
    "points = np.random.uniform(size=(10000, 3))\n",
    "\n",
    "fig = plt.figure()\n",
    "ax = fig.add_subplot(projection='3d')\n",
    "\n",
    "ax.scatter(points[:,0], points[:,1], points[:,2], s=1)\n",
    "plt.show()"
   ]
  },
  {
   "cell_type": "code",
   "execution_count": null,
   "id": "a4dd2a83-7483-4790-b3d0-a29d4ba07523",
   "metadata": {},
   "outputs": [],
   "source": []
  },
  {
   "cell_type": "code",
   "execution_count": null,
   "id": "68e0b4f1-9473-468d-b1b2-4407442734ec",
   "metadata": {},
   "outputs": [],
   "source": [
    "wireFramePoints = []\n",
    "\n",
    "for i in tqdm.tqdm(range(100)):\n",
    "    points = np.random.uniform(size=(10000, 3))\n",
    "\n",
    "    coverTree = CoverTree(points, metric)\n",
    "\n",
    "    innerPoints = coverTree.query_ball_point((0.5, 0.5, 0.5), .5 - 1e-6)\n",
    "\n",
    "    include = np.array([not (i in innerPoints) for i in np.arange(len(points))], dtype=bool)\n",
    "\n",
    "    wireFramePoints += list(points[include])\n",
    "\n",
    "wireFramePoints = np.array(wireFramePoints)"
   ]
  },
  {
   "cell_type": "code",
   "execution_count": null,
   "id": "26a7a6b8-dfdb-476b-abbd-c96eb74081f1",
   "metadata": {},
   "outputs": [],
   "source": [
    "fig = plt.figure(figsize=(8,8))\n",
    "ax = fig.add_subplot(projection='3d')\n",
    "\n",
    "ax.scatter(wireFramePoints[:,0], wireFramePoints[:,1], wireFramePoints[:,2], s=1)\n",
    "#plt.savefig('wireframe_cube.png')\n",
    "plt.show()"
   ]
  },
  {
   "cell_type": "code",
   "execution_count": null,
   "id": "5107133f-3f11-4485-82f8-6f250f8815d4",
   "metadata": {},
   "outputs": [],
   "source": [
    "wireFramePoints.shape"
   ]
  },
  {
   "cell_type": "code",
   "execution_count": null,
   "id": "46ad9843-5c31-450d-afd5-3a21b37eb0f0",
   "metadata": {},
   "outputs": [],
   "source": [
    "with open('Data/cube.npy', 'wb') as f:\n",
    "    np.save(f, wireFramePoints)"
   ]
  },
  {
   "cell_type": "code",
   "execution_count": null,
   "id": "8cec1e22-ae90-4fe8-bc4a-185533218beb",
   "metadata": {},
   "outputs": [],
   "source": [
    "with open('Data/cube.npy', 'rb') as f:\n",
    "    points = np.load(f)"
   ]
  },
  {
   "cell_type": "code",
   "execution_count": null,
   "id": "28bb27af-4196-48df-ba6a-dff2e0dc2175",
   "metadata": {},
   "outputs": [],
   "source": [
    "# Rotate\n",
    "rotMat = sk.rotationMatrix(np.pi/8,np.pi/6,np.pi/32)\n",
    "rotatedPoints = np.dot(points - np.array([.5,.5,.5]), rotMat.T) + np.array([.5,.5,.5])"
   ]
  },
  {
   "cell_type": "code",
   "execution_count": null,
   "id": "18be87e8-ffb4-4fd0-b6a3-edc79d16b685",
   "metadata": {},
   "outputs": [],
   "source": [
    "fig = plt.figure(figsize=(8,8))\n",
    "ax = fig.add_subplot(projection='3d')\n",
    "\n",
    "ax.scatter(rotatedPoints[:,0], rotatedPoints[:,1], rotatedPoints[:,2], s=1)\n",
    "#plt.savefig('wireframe_cube.png')\n",
    "plt.show()"
   ]
  },
  {
   "cell_type": "code",
   "execution_count": null,
   "id": "16405814-56ab-417b-ad5e-a807725d0529",
   "metadata": {},
   "outputs": [],
   "source": [
    "with open('Data/cube_6.npy', 'wb') as f:\n",
    "    np.save(f, rotatedPoints)"
   ]
  },
  {
   "cell_type": "code",
   "execution_count": null,
   "id": "e377eb6e-50c9-4b3f-a78e-e933328d60be",
   "metadata": {},
   "outputs": [],
   "source": [
    "%matplotlib qt\n",
    "allPoints = np.array(list(points) + list((rotatedPoints - np.array([.5,.5,.5]))*.72*np.array([1,1,1.4]) + np.array([.5,.5,.5])))\n",
    "fig = plt.figure(figsize=(8,8))\n",
    "ax = fig.add_subplot(projection='3d')\n",
    "\n",
    "ax.scatter(allPoints[:,0], allPoints[:,1], allPoints[:,2], s=1)\n",
    "#plt.savefig('wireframe_cube.png')\n",
    "plt.show()"
   ]
  },
  {
   "cell_type": "code",
   "execution_count": null,
   "id": "8d6311e4-1395-48be-a399-6f5c03f00ea0",
   "metadata": {},
   "outputs": [],
   "source": [
    "with open('Data/cube_3.npy', 'wb') as f:\n",
    "    np.save(f, allPoints)"
   ]
  },
  {
   "cell_type": "code",
   "execution_count": null,
   "id": "28117728-fe40-47aa-b454-969d9806053b",
   "metadata": {},
   "outputs": [],
   "source": []
  }
 ],
 "metadata": {
  "kernelspec": {
   "display_name": "Python 3 (ipykernel)",
   "language": "python",
   "name": "python3"
  },
  "language_info": {
   "codemirror_mode": {
    "name": "ipython",
    "version": 3
   },
   "file_extension": ".py",
   "mimetype": "text/x-python",
   "name": "python",
   "nbconvert_exporter": "python",
   "pygments_lexer": "ipython3",
   "version": "3.11.3"
  }
 },
 "nbformat": 4,
 "nbformat_minor": 5
}
